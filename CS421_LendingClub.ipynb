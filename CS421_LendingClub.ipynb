{
 "cells": [
  {
   "cell_type": "markdown",
   "metadata": {
    "heading_collapsed": true,
    "id": "v62Ymq73r0_i"
   },
   "source": [
    "## Setup"
   ]
  },
  {
   "cell_type": "code",
   "execution_count": 1,
   "metadata": {},
   "outputs": [
    {
     "name": "stdout",
     "output_type": "stream",
     "text": [
      "Requirement already satisfied: statsmodels in /home/kane_wu/anaconda3/envs/ml/lib/python3.9/site-packages (0.13.0)\n",
      "Requirement already satisfied: scipy>=1.3 in /home/kane_wu/anaconda3/envs/ml/lib/python3.9/site-packages (from statsmodels) (1.7.1)\n",
      "Requirement already satisfied: numpy>=1.17 in /home/kane_wu/anaconda3/envs/ml/lib/python3.9/site-packages (from statsmodels) (1.21.2)\n",
      "Requirement already satisfied: pandas>=0.25 in /home/kane_wu/anaconda3/envs/ml/lib/python3.9/site-packages (from statsmodels) (1.3.3)\n",
      "Requirement already satisfied: patsy>=0.5.2 in /home/kane_wu/anaconda3/envs/ml/lib/python3.9/site-packages (from statsmodels) (0.5.2)\n",
      "Requirement already satisfied: pytz>=2017.3 in /home/kane_wu/anaconda3/envs/ml/lib/python3.9/site-packages (from pandas>=0.25->statsmodels) (2021.1)\n",
      "Requirement already satisfied: python-dateutil>=2.7.3 in /home/kane_wu/anaconda3/envs/ml/lib/python3.9/site-packages (from pandas>=0.25->statsmodels) (2.8.2)\n",
      "Requirement already satisfied: six in /home/kane_wu/anaconda3/envs/ml/lib/python3.9/site-packages (from patsy>=0.5.2->statsmodels) (1.16.0)\n"
     ]
    }
   ],
   "source": [
    "!pip install statsmodels"
   ]
  },
  {
   "cell_type": "code",
   "execution_count": 2,
   "metadata": {
    "ExecuteTime": {
     "end_time": "2019-11-17T17:36:48.254186Z",
     "start_time": "2019-11-17T17:36:47.257458Z"
    },
    "colab": {
     "base_uri": "https://localhost:8080/"
    },
    "hidden": true,
    "id": "RF-WELprr0_o",
    "outputId": "7f193e23-c741-4a10-a2ce-8e97209405a4"
   },
   "outputs": [],
   "source": [
    "import numpy as np\n",
    "import pandas as pd\n",
    "import math\n",
    "import statistics\n",
    "from datetime import datetime as dt\n",
    "import sklearn\n",
    "from matplotlib import pyplot as plt\n",
    "import seaborn as sns\n",
    "import statsmodels.api as sm\n",
    "\n",
    "%matplotlib inline\n",
    "\n",
    "import warnings\n",
    "warnings.filterwarnings('ignore')"
   ]
  },
  {
   "cell_type": "markdown",
   "metadata": {
    "heading_collapsed": true,
    "id": "6ZJSCmIir1AM"
   },
   "source": [
    "## Import raw data"
   ]
  },
  {
   "cell_type": "code",
   "execution_count": 3,
   "metadata": {
    "ExecuteTime": {
     "end_time": "2019-11-17T17:36:48.542473Z",
     "start_time": "2019-11-17T17:36:48.255111Z"
    },
    "hidden": true,
    "id": "mxmM7NFnr1AN"
   },
   "outputs": [],
   "source": [
    "data = pd.read_csv(\"loans_2007.csv\")"
   ]
  },
  {
   "cell_type": "markdown",
   "metadata": {
    "heading_collapsed": true,
    "id": "zi4Ju85tr1AN"
   },
   "source": [
    "## Data cleaning"
   ]
  },
  {
   "cell_type": "markdown",
   "metadata": {
    "heading_collapsed": true,
    "hidden": true,
    "id": "393EThuAr1AN"
   },
   "source": [
    "### Explore raw data"
   ]
  },
  {
   "cell_type": "markdown",
   "metadata": {
    "hidden": true,
    "id": "J-w_OFEIr1AN"
   },
   "source": [
    "#### Data quantity"
   ]
  },
  {
   "cell_type": "code",
   "execution_count": 4,
   "metadata": {
    "ExecuteTime": {
     "end_time": "2019-11-17T17:36:48.548464Z",
     "start_time": "2019-11-17T17:36:48.544432Z"
    },
    "colab": {
     "base_uri": "https://localhost:8080/"
    },
    "hidden": true,
    "id": "gvaUfP3Dr1AO",
    "outputId": "6beec818-5585-48a6-88fd-aed39d4fefd9"
   },
   "outputs": [
    {
     "name": "stdout",
     "output_type": "stream",
     "text": [
      "There are 42538 rows and 52 columns\n"
     ]
    }
   ],
   "source": [
    "print(\"There are {} rows and {} columns\".format(data.shape[0], data.shape[1]))"
   ]
  },
  {
   "cell_type": "code",
   "execution_count": 5,
   "metadata": {
    "ExecuteTime": {
     "end_time": "2019-11-17T17:36:48.817848Z",
     "start_time": "2019-11-17T17:36:48.549418Z"
    },
    "colab": {
     "base_uri": "https://localhost:8080/",
     "height": 407
    },
    "hidden": true,
    "id": "ck6RFf0Pr1AO",
    "outputId": "affa01cc-59fb-4fd7-9cae-43d369abaec3"
   },
   "outputs": [
    {
     "name": "stdout",
     "output_type": "stream",
     "text": [
      "Number of unique values by column:\n"
     ]
    },
    {
     "data": {
      "text/plain": [
       "id                            42538\n",
       "member_id                     42535\n",
       "loan_amnt                       898\n",
       "funded_amnt                    1051\n",
       "funded_amnt_inv                9246\n",
       "term                              2\n",
       "int_rate                        394\n",
       "installment                   16459\n",
       "grade                             7\n",
       "sub_grade                        35\n",
       "emp_title                     30658\n",
       "emp_length                       11\n",
       "home_ownership                    5\n",
       "annual_inc                     5597\n",
       "verification_status               3\n",
       "issue_d                          55\n",
       "loan_status                       9\n",
       "pymnt_plan                        2\n",
       "purpose                          14\n",
       "title                         21264\n",
       "zip_code                        837\n",
       "addr_state                       50\n",
       "dti                            2894\n",
       "delinq_2yrs                      12\n",
       "earliest_cr_line                530\n",
       "inq_last_6mths                   28\n",
       "open_acc                         44\n",
       "pub_rec                           6\n",
       "revol_bal                     22709\n",
       "revol_util                     1119\n",
       "total_acc                        83\n",
       "initial_list_status               1\n",
       "out_prncp                      1013\n",
       "out_prncp_inv                  1012\n",
       "total_pymnt                   42391\n",
       "total_pymnt_inv               40128\n",
       "total_rec_prncp                8642\n",
       "total_rec_int                 37606\n",
       "total_rec_late_fee             2281\n",
       "recoveries                     4510\n",
       "collection_recovery_fee        2836\n",
       "last_pymnt_d                    103\n",
       "last_pymnt_amnt               37024\n",
       "last_credit_pull_d              108\n",
       "collections_12_mths_ex_med        1\n",
       "policy_code                       1\n",
       "application_type                  1\n",
       "acc_now_delinq                    2\n",
       "chargeoff_within_12_mths          1\n",
       "delinq_amnt                       3\n",
       "pub_rec_bankruptcies              3\n",
       "tax_liens                         2\n",
       "dtype: int64"
      ]
     },
     "metadata": {},
     "output_type": "display_data"
    }
   ],
   "source": [
    "print(\"Number of unique values by column:\")\n",
    "display(data.nunique())"
   ]
  },
  {
   "cell_type": "markdown",
   "metadata": {
    "hidden": true,
    "id": "mMaT2DHrr1AP"
   },
   "source": [
    "#### Data quality"
   ]
  },
  {
   "cell_type": "code",
   "execution_count": 6,
   "metadata": {
    "ExecuteTime": {
     "end_time": "2019-11-17T17:36:48.869035Z",
     "start_time": "2019-11-17T17:36:48.818770Z"
    },
    "colab": {
     "base_uri": "https://localhost:8080/",
     "height": 52
    },
    "hidden": true,
    "id": "erO4ZDpUr1AP",
    "outputId": "cd5c6f8b-8919-4ebb-bcf6-60c6f4920858"
   },
   "outputs": [
    {
     "name": "stdout",
     "output_type": "stream",
     "text": [
      "Columns with nulls:\n"
     ]
    },
    {
     "data": {
      "text/plain": [
       "member_id                        3\n",
       "loan_amnt                        3\n",
       "funded_amnt                      3\n",
       "funded_amnt_inv                  3\n",
       "term                             3\n",
       "int_rate                         3\n",
       "installment                      3\n",
       "grade                            3\n",
       "sub_grade                        3\n",
       "emp_title                     2629\n",
       "emp_length                    1115\n",
       "home_ownership                   3\n",
       "annual_inc                       7\n",
       "verification_status              3\n",
       "issue_d                          3\n",
       "loan_status                      3\n",
       "pymnt_plan                       3\n",
       "purpose                          3\n",
       "title                           16\n",
       "zip_code                         3\n",
       "addr_state                       3\n",
       "dti                              3\n",
       "delinq_2yrs                     32\n",
       "earliest_cr_line                32\n",
       "inq_last_6mths                  32\n",
       "open_acc                        32\n",
       "pub_rec                         32\n",
       "revol_bal                        3\n",
       "revol_util                      93\n",
       "total_acc                       32\n",
       "initial_list_status              3\n",
       "out_prncp                        3\n",
       "out_prncp_inv                    3\n",
       "total_pymnt                      3\n",
       "total_pymnt_inv                  3\n",
       "total_rec_prncp                  3\n",
       "total_rec_int                    3\n",
       "total_rec_late_fee               3\n",
       "recoveries                       3\n",
       "collection_recovery_fee          3\n",
       "last_pymnt_d                    86\n",
       "last_pymnt_amnt                  3\n",
       "last_credit_pull_d               7\n",
       "collections_12_mths_ex_med     148\n",
       "policy_code                      3\n",
       "application_type                 3\n",
       "acc_now_delinq                  32\n",
       "chargeoff_within_12_mths       148\n",
       "delinq_amnt                     32\n",
       "pub_rec_bankruptcies          1368\n",
       "tax_liens                      108\n",
       "dtype: int64"
      ]
     },
     "metadata": {},
     "output_type": "display_data"
    }
   ],
   "source": [
    "print(\"Columns with nulls:\")\n",
    "num_nulls = data.isnull().sum()\n",
    "display(num_nulls[num_nulls > 0])"
   ]
  },
  {
   "cell_type": "markdown",
   "metadata": {
    "hidden": true,
    "id": "DIsNzoxIr1AP"
   },
   "source": [
    "#### Summary statistics"
   ]
  },
  {
   "cell_type": "code",
   "execution_count": 7,
   "metadata": {
    "ExecuteTime": {
     "end_time": "2019-11-17T17:36:48.974753Z",
     "start_time": "2019-11-17T17:36:48.869957Z"
    },
    "colab": {
     "base_uri": "https://localhost:8080/",
     "height": 287
    },
    "hidden": true,
    "id": "wXrIGiRWr1AP",
    "outputId": "5fd1a22e-eeae-4095-d3c4-afa9a15d8c72",
    "scrolled": true
   },
   "outputs": [
    {
     "data": {
      "text/html": [
       "<div>\n",
       "<style scoped>\n",
       "    .dataframe tbody tr th:only-of-type {\n",
       "        vertical-align: middle;\n",
       "    }\n",
       "\n",
       "    .dataframe tbody tr th {\n",
       "        vertical-align: top;\n",
       "    }\n",
       "\n",
       "    .dataframe thead th {\n",
       "        text-align: right;\n",
       "    }\n",
       "</style>\n",
       "<table border=\"1\" class=\"dataframe\">\n",
       "  <thead>\n",
       "    <tr style=\"text-align: right;\">\n",
       "      <th></th>\n",
       "      <th>member_id</th>\n",
       "      <th>loan_amnt</th>\n",
       "      <th>funded_amnt</th>\n",
       "      <th>funded_amnt_inv</th>\n",
       "      <th>installment</th>\n",
       "      <th>annual_inc</th>\n",
       "      <th>dti</th>\n",
       "      <th>delinq_2yrs</th>\n",
       "      <th>inq_last_6mths</th>\n",
       "      <th>open_acc</th>\n",
       "      <th>...</th>\n",
       "      <th>recoveries</th>\n",
       "      <th>collection_recovery_fee</th>\n",
       "      <th>last_pymnt_amnt</th>\n",
       "      <th>collections_12_mths_ex_med</th>\n",
       "      <th>policy_code</th>\n",
       "      <th>acc_now_delinq</th>\n",
       "      <th>chargeoff_within_12_mths</th>\n",
       "      <th>delinq_amnt</th>\n",
       "      <th>pub_rec_bankruptcies</th>\n",
       "      <th>tax_liens</th>\n",
       "    </tr>\n",
       "  </thead>\n",
       "  <tbody>\n",
       "    <tr>\n",
       "      <th>count</th>\n",
       "      <td>42,535</td>\n",
       "      <td>42,535</td>\n",
       "      <td>42,535</td>\n",
       "      <td>42,535</td>\n",
       "      <td>42,535</td>\n",
       "      <td>42,531</td>\n",
       "      <td>42,535</td>\n",
       "      <td>42,506</td>\n",
       "      <td>42,506</td>\n",
       "      <td>42,506</td>\n",
       "      <td>...</td>\n",
       "      <td>42,535</td>\n",
       "      <td>42,535</td>\n",
       "      <td>42,535</td>\n",
       "      <td>42,390</td>\n",
       "      <td>42,535</td>\n",
       "      <td>42,506</td>\n",
       "      <td>42,390</td>\n",
       "      <td>42,506</td>\n",
       "      <td>41,170</td>\n",
       "      <td>42,430</td>\n",
       "    </tr>\n",
       "    <tr>\n",
       "      <th>mean</th>\n",
       "      <td>825702.55</td>\n",
       "      <td>11089.72</td>\n",
       "      <td>10821.59</td>\n",
       "      <td>10139.83</td>\n",
       "      <td>322.62</td>\n",
       "      <td>69136.56</td>\n",
       "      <td>13.37</td>\n",
       "      <td>0.15</td>\n",
       "      <td>1.08</td>\n",
       "      <td>9.34</td>\n",
       "      <td>...</td>\n",
       "      <td>99.76</td>\n",
       "      <td>13.86</td>\n",
       "      <td>2610.76</td>\n",
       "      <td>0</td>\n",
       "      <td>1</td>\n",
       "      <td>0.00</td>\n",
       "      <td>0</td>\n",
       "      <td>0.14</td>\n",
       "      <td>0.05</td>\n",
       "      <td>0.00</td>\n",
       "    </tr>\n",
       "    <tr>\n",
       "      <th>std</th>\n",
       "      <td>279540.91</td>\n",
       "      <td>7410.94</td>\n",
       "      <td>7146.91</td>\n",
       "      <td>7131.69</td>\n",
       "      <td>208.93</td>\n",
       "      <td>64096.35</td>\n",
       "      <td>6.73</td>\n",
       "      <td>0.51</td>\n",
       "      <td>1.53</td>\n",
       "      <td>4.50</td>\n",
       "      <td>...</td>\n",
       "      <td>716.22</td>\n",
       "      <td>159.36</td>\n",
       "      <td>4385.64</td>\n",
       "      <td>0</td>\n",
       "      <td>0</td>\n",
       "      <td>0.01</td>\n",
       "      <td>0</td>\n",
       "      <td>29.36</td>\n",
       "      <td>0.21</td>\n",
       "      <td>0.00</td>\n",
       "    </tr>\n",
       "    <tr>\n",
       "      <th>min</th>\n",
       "      <td>70,473</td>\n",
       "      <td>500</td>\n",
       "      <td>500</td>\n",
       "      <td>0</td>\n",
       "      <td>15.67</td>\n",
       "      <td>1,896</td>\n",
       "      <td>0</td>\n",
       "      <td>0</td>\n",
       "      <td>0</td>\n",
       "      <td>1</td>\n",
       "      <td>...</td>\n",
       "      <td>0</td>\n",
       "      <td>0</td>\n",
       "      <td>0</td>\n",
       "      <td>0</td>\n",
       "      <td>1</td>\n",
       "      <td>0</td>\n",
       "      <td>0</td>\n",
       "      <td>0</td>\n",
       "      <td>0</td>\n",
       "      <td>0</td>\n",
       "    </tr>\n",
       "    <tr>\n",
       "      <th>25%</th>\n",
       "      <td>638479.50</td>\n",
       "      <td>5,200</td>\n",
       "      <td>5,000</td>\n",
       "      <td>4,950</td>\n",
       "      <td>165.52</td>\n",
       "      <td>40,000</td>\n",
       "      <td>8.20</td>\n",
       "      <td>0</td>\n",
       "      <td>0</td>\n",
       "      <td>6</td>\n",
       "      <td>...</td>\n",
       "      <td>0</td>\n",
       "      <td>0</td>\n",
       "      <td>211.46</td>\n",
       "      <td>0</td>\n",
       "      <td>1</td>\n",
       "      <td>0</td>\n",
       "      <td>0</td>\n",
       "      <td>0</td>\n",
       "      <td>0</td>\n",
       "      <td>0</td>\n",
       "    </tr>\n",
       "    <tr>\n",
       "      <th>50%</th>\n",
       "      <td>824,178</td>\n",
       "      <td>9,700</td>\n",
       "      <td>9,600</td>\n",
       "      <td>8,500</td>\n",
       "      <td>277.69</td>\n",
       "      <td>59,000</td>\n",
       "      <td>13.47</td>\n",
       "      <td>0</td>\n",
       "      <td>1</td>\n",
       "      <td>9</td>\n",
       "      <td>...</td>\n",
       "      <td>0</td>\n",
       "      <td>0</td>\n",
       "      <td>526.15</td>\n",
       "      <td>0</td>\n",
       "      <td>1</td>\n",
       "      <td>0</td>\n",
       "      <td>0</td>\n",
       "      <td>0</td>\n",
       "      <td>0</td>\n",
       "      <td>0</td>\n",
       "    </tr>\n",
       "    <tr>\n",
       "      <th>75%</th>\n",
       "      <td>1033946.50</td>\n",
       "      <td>15,000</td>\n",
       "      <td>15,000</td>\n",
       "      <td>14,000</td>\n",
       "      <td>428.18</td>\n",
       "      <td>82,500</td>\n",
       "      <td>18.68</td>\n",
       "      <td>0</td>\n",
       "      <td>2</td>\n",
       "      <td>12</td>\n",
       "      <td>...</td>\n",
       "      <td>0</td>\n",
       "      <td>0</td>\n",
       "      <td>3165.45</td>\n",
       "      <td>0</td>\n",
       "      <td>1</td>\n",
       "      <td>0</td>\n",
       "      <td>0</td>\n",
       "      <td>0</td>\n",
       "      <td>0</td>\n",
       "      <td>0</td>\n",
       "    </tr>\n",
       "    <tr>\n",
       "      <th>max</th>\n",
       "      <td>1,314,167</td>\n",
       "      <td>35,000</td>\n",
       "      <td>35,000</td>\n",
       "      <td>35,000</td>\n",
       "      <td>1305.19</td>\n",
       "      <td>6,000,000</td>\n",
       "      <td>29.99</td>\n",
       "      <td>13</td>\n",
       "      <td>33</td>\n",
       "      <td>47</td>\n",
       "      <td>...</td>\n",
       "      <td>29623.35</td>\n",
       "      <td>7002.19</td>\n",
       "      <td>36115.20</td>\n",
       "      <td>0</td>\n",
       "      <td>1</td>\n",
       "      <td>1</td>\n",
       "      <td>0</td>\n",
       "      <td>6,053</td>\n",
       "      <td>2</td>\n",
       "      <td>1</td>\n",
       "    </tr>\n",
       "  </tbody>\n",
       "</table>\n",
       "<p>8 rows × 30 columns</p>\n",
       "</div>"
      ],
      "text/plain": [
       "       member_id  loan_amnt  funded_amnt  funded_amnt_inv  installment  \\\n",
       "count     42,535     42,535       42,535           42,535       42,535   \n",
       "mean   825702.55   11089.72     10821.59         10139.83       322.62   \n",
       "std    279540.91    7410.94      7146.91          7131.69       208.93   \n",
       "min       70,473        500          500                0        15.67   \n",
       "25%    638479.50      5,200        5,000            4,950       165.52   \n",
       "50%      824,178      9,700        9,600            8,500       277.69   \n",
       "75%   1033946.50     15,000       15,000           14,000       428.18   \n",
       "max    1,314,167     35,000       35,000           35,000      1305.19   \n",
       "\n",
       "       annual_inc    dti  delinq_2yrs  inq_last_6mths  open_acc  ...  \\\n",
       "count      42,531 42,535       42,506          42,506    42,506  ...   \n",
       "mean     69136.56  13.37         0.15            1.08      9.34  ...   \n",
       "std      64096.35   6.73         0.51            1.53      4.50  ...   \n",
       "min         1,896      0            0               0         1  ...   \n",
       "25%        40,000   8.20            0               0         6  ...   \n",
       "50%        59,000  13.47            0               1         9  ...   \n",
       "75%        82,500  18.68            0               2        12  ...   \n",
       "max     6,000,000  29.99           13              33        47  ...   \n",
       "\n",
       "       recoveries  collection_recovery_fee  last_pymnt_amnt  \\\n",
       "count      42,535                   42,535           42,535   \n",
       "mean        99.76                    13.86          2610.76   \n",
       "std        716.22                   159.36          4385.64   \n",
       "min             0                        0                0   \n",
       "25%             0                        0           211.46   \n",
       "50%             0                        0           526.15   \n",
       "75%             0                        0          3165.45   \n",
       "max      29623.35                  7002.19         36115.20   \n",
       "\n",
       "       collections_12_mths_ex_med  policy_code  acc_now_delinq  \\\n",
       "count                      42,390       42,535          42,506   \n",
       "mean                            0            1            0.00   \n",
       "std                             0            0            0.01   \n",
       "min                             0            1               0   \n",
       "25%                             0            1               0   \n",
       "50%                             0            1               0   \n",
       "75%                             0            1               0   \n",
       "max                             0            1               1   \n",
       "\n",
       "       chargeoff_within_12_mths  delinq_amnt  pub_rec_bankruptcies  tax_liens  \n",
       "count                    42,390       42,506                41,170     42,430  \n",
       "mean                          0         0.14                  0.05       0.00  \n",
       "std                           0        29.36                  0.21       0.00  \n",
       "min                           0            0                     0          0  \n",
       "25%                           0            0                     0          0  \n",
       "50%                           0            0                     0          0  \n",
       "75%                           0            0                     0          0  \n",
       "max                           0        6,053                     2          1  \n",
       "\n",
       "[8 rows x 30 columns]"
      ]
     },
     "execution_count": 7,
     "metadata": {},
     "output_type": "execute_result"
    }
   ],
   "source": [
    "pd.set_option('display.float_format', lambda x: f\"{x:.2f}\" if x % 1 != 0 else f\"{int(x):,}\")\n",
    "data.describe()"
   ]
  },
  {
   "cell_type": "code",
   "execution_count": 8,
   "metadata": {},
   "outputs": [
    {
     "data": {
      "text/html": [
       "<div>\n",
       "<style scoped>\n",
       "    .dataframe tbody tr th:only-of-type {\n",
       "        vertical-align: middle;\n",
       "    }\n",
       "\n",
       "    .dataframe tbody tr th {\n",
       "        vertical-align: top;\n",
       "    }\n",
       "\n",
       "    .dataframe thead th {\n",
       "        text-align: right;\n",
       "    }\n",
       "</style>\n",
       "<table border=\"1\" class=\"dataframe\">\n",
       "  <thead>\n",
       "    <tr style=\"text-align: right;\">\n",
       "      <th></th>\n",
       "      <th>id</th>\n",
       "      <th>member_id</th>\n",
       "      <th>loan_amnt</th>\n",
       "      <th>funded_amnt</th>\n",
       "      <th>funded_amnt_inv</th>\n",
       "      <th>term</th>\n",
       "      <th>int_rate</th>\n",
       "      <th>installment</th>\n",
       "      <th>grade</th>\n",
       "      <th>sub_grade</th>\n",
       "      <th>...</th>\n",
       "      <th>last_pymnt_amnt</th>\n",
       "      <th>last_credit_pull_d</th>\n",
       "      <th>collections_12_mths_ex_med</th>\n",
       "      <th>policy_code</th>\n",
       "      <th>application_type</th>\n",
       "      <th>acc_now_delinq</th>\n",
       "      <th>chargeoff_within_12_mths</th>\n",
       "      <th>delinq_amnt</th>\n",
       "      <th>pub_rec_bankruptcies</th>\n",
       "      <th>tax_liens</th>\n",
       "    </tr>\n",
       "  </thead>\n",
       "  <tbody>\n",
       "    <tr>\n",
       "      <th>0</th>\n",
       "      <td>1077501</td>\n",
       "      <td>1,296,599</td>\n",
       "      <td>5,000</td>\n",
       "      <td>5,000</td>\n",
       "      <td>4,975</td>\n",
       "      <td>36 months</td>\n",
       "      <td>10.65%</td>\n",
       "      <td>162.87</td>\n",
       "      <td>B</td>\n",
       "      <td>B2</td>\n",
       "      <td>...</td>\n",
       "      <td>171.62</td>\n",
       "      <td>Jun-2016</td>\n",
       "      <td>0</td>\n",
       "      <td>1</td>\n",
       "      <td>INDIVIDUAL</td>\n",
       "      <td>0</td>\n",
       "      <td>0</td>\n",
       "      <td>0</td>\n",
       "      <td>0</td>\n",
       "      <td>0</td>\n",
       "    </tr>\n",
       "    <tr>\n",
       "      <th>1</th>\n",
       "      <td>1077430</td>\n",
       "      <td>1,314,167</td>\n",
       "      <td>2,500</td>\n",
       "      <td>2,500</td>\n",
       "      <td>2,500</td>\n",
       "      <td>60 months</td>\n",
       "      <td>15.27%</td>\n",
       "      <td>59.83</td>\n",
       "      <td>C</td>\n",
       "      <td>C4</td>\n",
       "      <td>...</td>\n",
       "      <td>119.66</td>\n",
       "      <td>Sep-2013</td>\n",
       "      <td>0</td>\n",
       "      <td>1</td>\n",
       "      <td>INDIVIDUAL</td>\n",
       "      <td>0</td>\n",
       "      <td>0</td>\n",
       "      <td>0</td>\n",
       "      <td>0</td>\n",
       "      <td>0</td>\n",
       "    </tr>\n",
       "    <tr>\n",
       "      <th>2</th>\n",
       "      <td>1077175</td>\n",
       "      <td>1,313,524</td>\n",
       "      <td>2,400</td>\n",
       "      <td>2,400</td>\n",
       "      <td>2,400</td>\n",
       "      <td>36 months</td>\n",
       "      <td>15.96%</td>\n",
       "      <td>84.33</td>\n",
       "      <td>C</td>\n",
       "      <td>C5</td>\n",
       "      <td>...</td>\n",
       "      <td>649.91</td>\n",
       "      <td>Jun-2016</td>\n",
       "      <td>0</td>\n",
       "      <td>1</td>\n",
       "      <td>INDIVIDUAL</td>\n",
       "      <td>0</td>\n",
       "      <td>0</td>\n",
       "      <td>0</td>\n",
       "      <td>0</td>\n",
       "      <td>0</td>\n",
       "    </tr>\n",
       "    <tr>\n",
       "      <th>3</th>\n",
       "      <td>1076863</td>\n",
       "      <td>1,277,178</td>\n",
       "      <td>10,000</td>\n",
       "      <td>10,000</td>\n",
       "      <td>10,000</td>\n",
       "      <td>36 months</td>\n",
       "      <td>13.49%</td>\n",
       "      <td>339.31</td>\n",
       "      <td>C</td>\n",
       "      <td>C1</td>\n",
       "      <td>...</td>\n",
       "      <td>357.48</td>\n",
       "      <td>Apr-2016</td>\n",
       "      <td>0</td>\n",
       "      <td>1</td>\n",
       "      <td>INDIVIDUAL</td>\n",
       "      <td>0</td>\n",
       "      <td>0</td>\n",
       "      <td>0</td>\n",
       "      <td>0</td>\n",
       "      <td>0</td>\n",
       "    </tr>\n",
       "    <tr>\n",
       "      <th>4</th>\n",
       "      <td>1075358</td>\n",
       "      <td>1,311,748</td>\n",
       "      <td>3,000</td>\n",
       "      <td>3,000</td>\n",
       "      <td>3,000</td>\n",
       "      <td>60 months</td>\n",
       "      <td>12.69%</td>\n",
       "      <td>67.79</td>\n",
       "      <td>B</td>\n",
       "      <td>B5</td>\n",
       "      <td>...</td>\n",
       "      <td>67.79</td>\n",
       "      <td>Jun-2016</td>\n",
       "      <td>0</td>\n",
       "      <td>1</td>\n",
       "      <td>INDIVIDUAL</td>\n",
       "      <td>0</td>\n",
       "      <td>0</td>\n",
       "      <td>0</td>\n",
       "      <td>0</td>\n",
       "      <td>0</td>\n",
       "    </tr>\n",
       "  </tbody>\n",
       "</table>\n",
       "<p>5 rows × 52 columns</p>\n",
       "</div>"
      ],
      "text/plain": [
       "        id  member_id  loan_amnt  funded_amnt  funded_amnt_inv        term  \\\n",
       "0  1077501  1,296,599      5,000        5,000            4,975   36 months   \n",
       "1  1077430  1,314,167      2,500        2,500            2,500   60 months   \n",
       "2  1077175  1,313,524      2,400        2,400            2,400   36 months   \n",
       "3  1076863  1,277,178     10,000       10,000           10,000   36 months   \n",
       "4  1075358  1,311,748      3,000        3,000            3,000   60 months   \n",
       "\n",
       "  int_rate  installment grade sub_grade  ... last_pymnt_amnt  \\\n",
       "0   10.65%       162.87     B        B2  ...          171.62   \n",
       "1   15.27%        59.83     C        C4  ...          119.66   \n",
       "2   15.96%        84.33     C        C5  ...          649.91   \n",
       "3   13.49%       339.31     C        C1  ...          357.48   \n",
       "4   12.69%        67.79     B        B5  ...           67.79   \n",
       "\n",
       "  last_credit_pull_d collections_12_mths_ex_med  policy_code application_type  \\\n",
       "0           Jun-2016                          0            1       INDIVIDUAL   \n",
       "1           Sep-2013                          0            1       INDIVIDUAL   \n",
       "2           Jun-2016                          0            1       INDIVIDUAL   \n",
       "3           Apr-2016                          0            1       INDIVIDUAL   \n",
       "4           Jun-2016                          0            1       INDIVIDUAL   \n",
       "\n",
       "  acc_now_delinq chargeoff_within_12_mths delinq_amnt pub_rec_bankruptcies  \\\n",
       "0              0                        0           0                    0   \n",
       "1              0                        0           0                    0   \n",
       "2              0                        0           0                    0   \n",
       "3              0                        0           0                    0   \n",
       "4              0                        0           0                    0   \n",
       "\n",
       "  tax_liens  \n",
       "0         0  \n",
       "1         0  \n",
       "2         0  \n",
       "3         0  \n",
       "4         0  \n",
       "\n",
       "[5 rows x 52 columns]"
      ]
     },
     "execution_count": 8,
     "metadata": {},
     "output_type": "execute_result"
    }
   ],
   "source": [
    "data.head()"
   ]
  },
  {
   "cell_type": "markdown",
   "metadata": {
    "hidden": true,
    "id": "0v7gLNDIr1AQ"
   },
   "source": [
    "#### Distribution of target variable: loan_status"
   ]
  },
  {
   "cell_type": "code",
   "execution_count": 9,
   "metadata": {
    "ExecuteTime": {
     "end_time": "2019-11-17T17:36:49.172184Z",
     "start_time": "2019-11-17T17:36:48.975674Z"
    },
    "colab": {
     "base_uri": "https://localhost:8080/",
     "height": 724
    },
    "hidden": true,
    "id": "q1QOiEaDr1AQ",
    "outputId": "e83bafce-4715-4301-e8a9-83a27835d5c8"
   },
   "outputs": [
    {
     "data": {
      "image/png": "[encoded data removed]",
      "text/plain": [
       "<Figure size 1440x432 with 1 Axes>"
      ]
     },
     "metadata": {
      "needs_background": "light"
     },
     "output_type": "display_data"
    }
   ],
   "source": [
    "# Count plot of loan status\n",
    "plt.figure(figsize = (20, 6))\n",
    "plt.title(\"Count plot of loan_status categories\")\n",
    "ax = sns.countplot(y = 'loan_status', data = data, orient = \"v\")"
   ]
  },
  {
   "cell_type": "markdown",
   "metadata": {
    "hidden": true,
    "id": "CadRrOvRr1AQ"
   },
   "source": [
    "### Data cleaning"
   ]
  },
  {
   "cell_type": "markdown",
   "metadata": {
    "hidden": true,
    "id": "e5PCPrP3r1AR"
   },
   "source": [
    "#### Keep only rows with loan_status \"Fully Paid\" (0) or \"Charged Off (1)"
   ]
  },
  {
   "cell_type": "code",
   "execution_count": 10,
   "metadata": {
    "ExecuteTime": {
     "end_time": "2019-11-17T17:36:49.246421Z",
     "start_time": "2019-11-17T17:36:49.173146Z"
    },
    "colab": {
     "base_uri": "https://localhost:8080/"
    },
    "hidden": true,
    "id": "JLtWVwthr1AR",
    "outputId": "28643996-94a3-4eb9-811f-2f6ed5ec8825"
   },
   "outputs": [
    {
     "name": "stdout",
     "output_type": "stream",
     "text": [
      "Original: 42538 rows. Dropped: 3768 rows. Remaining: 38770 rows.\n"
     ]
    },
    {
     "data": {
      "text/html": [
       "<div>\n",
       "<style scoped>\n",
       "    .dataframe tbody tr th:only-of-type {\n",
       "        vertical-align: middle;\n",
       "    }\n",
       "\n",
       "    .dataframe tbody tr th {\n",
       "        vertical-align: top;\n",
       "    }\n",
       "\n",
       "    .dataframe thead th {\n",
       "        text-align: right;\n",
       "    }\n",
       "</style>\n",
       "<table border=\"1\" class=\"dataframe\">\n",
       "  <thead>\n",
       "    <tr style=\"text-align: right;\">\n",
       "      <th></th>\n",
       "      <th>id</th>\n",
       "      <th>member_id</th>\n",
       "      <th>loan_amnt</th>\n",
       "      <th>funded_amnt</th>\n",
       "      <th>funded_amnt_inv</th>\n",
       "      <th>term</th>\n",
       "      <th>int_rate</th>\n",
       "      <th>installment</th>\n",
       "      <th>grade</th>\n",
       "      <th>sub_grade</th>\n",
       "      <th>...</th>\n",
       "      <th>last_credit_pull_d</th>\n",
       "      <th>collections_12_mths_ex_med</th>\n",
       "      <th>policy_code</th>\n",
       "      <th>application_type</th>\n",
       "      <th>acc_now_delinq</th>\n",
       "      <th>chargeoff_within_12_mths</th>\n",
       "      <th>delinq_amnt</th>\n",
       "      <th>pub_rec_bankruptcies</th>\n",
       "      <th>tax_liens</th>\n",
       "      <th>default</th>\n",
       "    </tr>\n",
       "  </thead>\n",
       "  <tbody>\n",
       "    <tr>\n",
       "      <th>0</th>\n",
       "      <td>1077501</td>\n",
       "      <td>1,296,599</td>\n",
       "      <td>5,000</td>\n",
       "      <td>5,000</td>\n",
       "      <td>4,975</td>\n",
       "      <td>36 months</td>\n",
       "      <td>10.65%</td>\n",
       "      <td>162.87</td>\n",
       "      <td>B</td>\n",
       "      <td>B2</td>\n",
       "      <td>...</td>\n",
       "      <td>Jun-2016</td>\n",
       "      <td>0</td>\n",
       "      <td>1</td>\n",
       "      <td>INDIVIDUAL</td>\n",
       "      <td>0</td>\n",
       "      <td>0</td>\n",
       "      <td>0</td>\n",
       "      <td>0</td>\n",
       "      <td>0</td>\n",
       "      <td>0</td>\n",
       "    </tr>\n",
       "    <tr>\n",
       "      <th>1</th>\n",
       "      <td>1077430</td>\n",
       "      <td>1,314,167</td>\n",
       "      <td>2,500</td>\n",
       "      <td>2,500</td>\n",
       "      <td>2,500</td>\n",
       "      <td>60 months</td>\n",
       "      <td>15.27%</td>\n",
       "      <td>59.83</td>\n",
       "      <td>C</td>\n",
       "      <td>C4</td>\n",
       "      <td>...</td>\n",
       "      <td>Sep-2013</td>\n",
       "      <td>0</td>\n",
       "      <td>1</td>\n",
       "      <td>INDIVIDUAL</td>\n",
       "      <td>0</td>\n",
       "      <td>0</td>\n",
       "      <td>0</td>\n",
       "      <td>0</td>\n",
       "      <td>0</td>\n",
       "      <td>1</td>\n",
       "    </tr>\n",
       "    <tr>\n",
       "      <th>2</th>\n",
       "      <td>1077175</td>\n",
       "      <td>1,313,524</td>\n",
       "      <td>2,400</td>\n",
       "      <td>2,400</td>\n",
       "      <td>2,400</td>\n",
       "      <td>36 months</td>\n",
       "      <td>15.96%</td>\n",
       "      <td>84.33</td>\n",
       "      <td>C</td>\n",
       "      <td>C5</td>\n",
       "      <td>...</td>\n",
       "      <td>Jun-2016</td>\n",
       "      <td>0</td>\n",
       "      <td>1</td>\n",
       "      <td>INDIVIDUAL</td>\n",
       "      <td>0</td>\n",
       "      <td>0</td>\n",
       "      <td>0</td>\n",
       "      <td>0</td>\n",
       "      <td>0</td>\n",
       "      <td>0</td>\n",
       "    </tr>\n",
       "    <tr>\n",
       "      <th>3</th>\n",
       "      <td>1076863</td>\n",
       "      <td>1,277,178</td>\n",
       "      <td>10,000</td>\n",
       "      <td>10,000</td>\n",
       "      <td>10,000</td>\n",
       "      <td>36 months</td>\n",
       "      <td>13.49%</td>\n",
       "      <td>339.31</td>\n",
       "      <td>C</td>\n",
       "      <td>C1</td>\n",
       "      <td>...</td>\n",
       "      <td>Apr-2016</td>\n",
       "      <td>0</td>\n",
       "      <td>1</td>\n",
       "      <td>INDIVIDUAL</td>\n",
       "      <td>0</td>\n",
       "      <td>0</td>\n",
       "      <td>0</td>\n",
       "      <td>0</td>\n",
       "      <td>0</td>\n",
       "      <td>0</td>\n",
       "    </tr>\n",
       "    <tr>\n",
       "      <th>5</th>\n",
       "      <td>1075269</td>\n",
       "      <td>1,311,441</td>\n",
       "      <td>5,000</td>\n",
       "      <td>5,000</td>\n",
       "      <td>5,000</td>\n",
       "      <td>36 months</td>\n",
       "      <td>7.90%</td>\n",
       "      <td>156.46</td>\n",
       "      <td>A</td>\n",
       "      <td>A4</td>\n",
       "      <td>...</td>\n",
       "      <td>Jan-2016</td>\n",
       "      <td>0</td>\n",
       "      <td>1</td>\n",
       "      <td>INDIVIDUAL</td>\n",
       "      <td>0</td>\n",
       "      <td>0</td>\n",
       "      <td>0</td>\n",
       "      <td>0</td>\n",
       "      <td>0</td>\n",
       "      <td>0</td>\n",
       "    </tr>\n",
       "  </tbody>\n",
       "</table>\n",
       "<p>5 rows × 52 columns</p>\n",
       "</div>"
      ],
      "text/plain": [
       "        id  member_id  loan_amnt  funded_amnt  funded_amnt_inv        term  \\\n",
       "0  1077501  1,296,599      5,000        5,000            4,975   36 months   \n",
       "1  1077430  1,314,167      2,500        2,500            2,500   60 months   \n",
       "2  1077175  1,313,524      2,400        2,400            2,400   36 months   \n",
       "3  1076863  1,277,178     10,000       10,000           10,000   36 months   \n",
       "5  1075269  1,311,441      5,000        5,000            5,000   36 months   \n",
       "\n",
       "  int_rate  installment grade sub_grade  ... last_credit_pull_d  \\\n",
       "0   10.65%       162.87     B        B2  ...           Jun-2016   \n",
       "1   15.27%        59.83     C        C4  ...           Sep-2013   \n",
       "2   15.96%        84.33     C        C5  ...           Jun-2016   \n",
       "3   13.49%       339.31     C        C1  ...           Apr-2016   \n",
       "5    7.90%       156.46     A        A4  ...           Jan-2016   \n",
       "\n",
       "  collections_12_mths_ex_med policy_code  application_type acc_now_delinq  \\\n",
       "0                          0           1        INDIVIDUAL              0   \n",
       "1                          0           1        INDIVIDUAL              0   \n",
       "2                          0           1        INDIVIDUAL              0   \n",
       "3                          0           1        INDIVIDUAL              0   \n",
       "5                          0           1        INDIVIDUAL              0   \n",
       "\n",
       "  chargeoff_within_12_mths delinq_amnt pub_rec_bankruptcies tax_liens default  \n",
       "0                        0           0                    0         0       0  \n",
       "1                        0           0                    0         0       1  \n",
       "2                        0           0                    0         0       0  \n",
       "3                        0           0                    0         0       0  \n",
       "5                        0           0                    0         0       0  \n",
       "\n",
       "[5 rows x 52 columns]"
      ]
     },
     "execution_count": 10,
     "metadata": {},
     "output_type": "execute_result"
    }
   ],
   "source": [
    "# Drop rows where loan_status is not \"Fully Paid\" or \"Charged Off\"\n",
    "old_len = len(data)\n",
    "data = data[data.loan_status.isin([\"Fully Paid\", \"Charged Off\"])]\n",
    "print(\"Original: {} rows. Dropped: {} rows. Remaining: {} rows.\".format(\n",
    "    old_len, old_len - len(data), len(data)))\n",
    "\n",
    "# Convert loan_status to binary variable: default = 1 if loan_status = \"Charged Off\", else default = 0\n",
    "data[\"default\"] = [\n",
    "    0 if status == \"Fully Paid\" else 1 for status in data.loan_status\n",
    "]\n",
    "data.drop(\"loan_status\", axis=1, inplace=True)\n",
    "data.head()"
   ]
  },
  {
   "cell_type": "markdown",
   "metadata": {
    "hidden": true,
    "id": "shjFyHs4r1AR"
   },
   "source": [
    "#### Drop duplicate rows"
   ]
  },
  {
   "cell_type": "code",
   "execution_count": 11,
   "metadata": {
    "ExecuteTime": {
     "end_time": "2019-11-17T17:36:49.351189Z",
     "start_time": "2019-11-17T17:36:49.247382Z"
    },
    "colab": {
     "base_uri": "https://localhost:8080/"
    },
    "hidden": true,
    "id": "L_GbNsThr1AR",
    "outputId": "698263fc-9908-47cd-e67a-e90221e82a6a"
   },
   "outputs": [
    {
     "name": "stdout",
     "output_type": "stream",
     "text": [
      "Original: 38770 rows. Dropped: 0 rows. Remaining: 38770 rows.\n"
     ]
    }
   ],
   "source": [
    "# Drop duplicates\n",
    "old_len = len(data)\n",
    "data.drop_duplicates(data.columns[:-3], keep=\"last\", inplace=True)\n",
    "print(\"Original: {} rows. Dropped: {} rows. Remaining: {} rows.\".format(\n",
    "    old_len, old_len - len(data), len(data)))"
   ]
  },
  {
   "cell_type": "markdown",
   "metadata": {
    "hidden": true,
    "id": "MLG2oM5nr1AS"
   },
   "source": [
    "#### Drop rows with NA values"
   ]
  },
  {
   "cell_type": "code",
   "execution_count": 12,
   "metadata": {},
   "outputs": [
    {
     "data": {
      "text/html": [
       "<div>\n",
       "<style scoped>\n",
       "    .dataframe tbody tr th:only-of-type {\n",
       "        vertical-align: middle;\n",
       "    }\n",
       "\n",
       "    .dataframe tbody tr th {\n",
       "        vertical-align: top;\n",
       "    }\n",
       "\n",
       "    .dataframe thead th {\n",
       "        text-align: right;\n",
       "    }\n",
       "</style>\n",
       "<table border=\"1\" class=\"dataframe\">\n",
       "  <thead>\n",
       "    <tr style=\"text-align: right;\">\n",
       "      <th></th>\n",
       "      <th>id</th>\n",
       "      <th>member_id</th>\n",
       "      <th>loan_amnt</th>\n",
       "      <th>funded_amnt</th>\n",
       "      <th>funded_amnt_inv</th>\n",
       "      <th>term</th>\n",
       "      <th>int_rate</th>\n",
       "      <th>installment</th>\n",
       "      <th>grade</th>\n",
       "      <th>sub_grade</th>\n",
       "      <th>...</th>\n",
       "      <th>last_credit_pull_d</th>\n",
       "      <th>collections_12_mths_ex_med</th>\n",
       "      <th>policy_code</th>\n",
       "      <th>application_type</th>\n",
       "      <th>acc_now_delinq</th>\n",
       "      <th>chargeoff_within_12_mths</th>\n",
       "      <th>delinq_amnt</th>\n",
       "      <th>pub_rec_bankruptcies</th>\n",
       "      <th>tax_liens</th>\n",
       "      <th>default</th>\n",
       "    </tr>\n",
       "  </thead>\n",
       "  <tbody>\n",
       "    <tr>\n",
       "      <th>0</th>\n",
       "      <td>1077501</td>\n",
       "      <td>1,296,599</td>\n",
       "      <td>5,000</td>\n",
       "      <td>5,000</td>\n",
       "      <td>4,975</td>\n",
       "      <td>36 months</td>\n",
       "      <td>10.65%</td>\n",
       "      <td>162.87</td>\n",
       "      <td>B</td>\n",
       "      <td>B2</td>\n",
       "      <td>...</td>\n",
       "      <td>Jun-2016</td>\n",
       "      <td>0</td>\n",
       "      <td>1</td>\n",
       "      <td>INDIVIDUAL</td>\n",
       "      <td>0</td>\n",
       "      <td>0</td>\n",
       "      <td>0</td>\n",
       "      <td>0</td>\n",
       "      <td>0</td>\n",
       "      <td>0</td>\n",
       "    </tr>\n",
       "    <tr>\n",
       "      <th>2</th>\n",
       "      <td>1077175</td>\n",
       "      <td>1,313,524</td>\n",
       "      <td>2,400</td>\n",
       "      <td>2,400</td>\n",
       "      <td>2,400</td>\n",
       "      <td>36 months</td>\n",
       "      <td>15.96%</td>\n",
       "      <td>84.33</td>\n",
       "      <td>C</td>\n",
       "      <td>C5</td>\n",
       "      <td>...</td>\n",
       "      <td>Jun-2016</td>\n",
       "      <td>0</td>\n",
       "      <td>1</td>\n",
       "      <td>INDIVIDUAL</td>\n",
       "      <td>0</td>\n",
       "      <td>0</td>\n",
       "      <td>0</td>\n",
       "      <td>0</td>\n",
       "      <td>0</td>\n",
       "      <td>0</td>\n",
       "    </tr>\n",
       "    <tr>\n",
       "      <th>8</th>\n",
       "      <td>1071795</td>\n",
       "      <td>1,306,957</td>\n",
       "      <td>5,600</td>\n",
       "      <td>5,600</td>\n",
       "      <td>5,600</td>\n",
       "      <td>60 months</td>\n",
       "      <td>21.28%</td>\n",
       "      <td>152.39</td>\n",
       "      <td>F</td>\n",
       "      <td>F2</td>\n",
       "      <td>...</td>\n",
       "      <td>Aug-2012</td>\n",
       "      <td>0</td>\n",
       "      <td>1</td>\n",
       "      <td>INDIVIDUAL</td>\n",
       "      <td>0</td>\n",
       "      <td>0</td>\n",
       "      <td>0</td>\n",
       "      <td>0</td>\n",
       "      <td>0</td>\n",
       "      <td>1</td>\n",
       "    </tr>\n",
       "    <tr>\n",
       "      <th>26</th>\n",
       "      <td>1069800</td>\n",
       "      <td>1,304,679</td>\n",
       "      <td>15,000</td>\n",
       "      <td>15,000</td>\n",
       "      <td>8,725</td>\n",
       "      <td>36 months</td>\n",
       "      <td>14.27%</td>\n",
       "      <td>514.64</td>\n",
       "      <td>C</td>\n",
       "      <td>C2</td>\n",
       "      <td>...</td>\n",
       "      <td>Jun-2016</td>\n",
       "      <td>0</td>\n",
       "      <td>1</td>\n",
       "      <td>INDIVIDUAL</td>\n",
       "      <td>0</td>\n",
       "      <td>0</td>\n",
       "      <td>0</td>\n",
       "      <td>0</td>\n",
       "      <td>0</td>\n",
       "      <td>1</td>\n",
       "    </tr>\n",
       "    <tr>\n",
       "      <th>30</th>\n",
       "      <td>1032111</td>\n",
       "      <td>1,261,745</td>\n",
       "      <td>4,375</td>\n",
       "      <td>4,375</td>\n",
       "      <td>4,375</td>\n",
       "      <td>36 months</td>\n",
       "      <td>7.51%</td>\n",
       "      <td>136.11</td>\n",
       "      <td>A</td>\n",
       "      <td>A3</td>\n",
       "      <td>...</td>\n",
       "      <td>Dec-2014</td>\n",
       "      <td>0</td>\n",
       "      <td>1</td>\n",
       "      <td>INDIVIDUAL</td>\n",
       "      <td>0</td>\n",
       "      <td>0</td>\n",
       "      <td>0</td>\n",
       "      <td>0</td>\n",
       "      <td>0</td>\n",
       "      <td>0</td>\n",
       "    </tr>\n",
       "    <tr>\n",
       "      <th>...</th>\n",
       "      <td>...</td>\n",
       "      <td>...</td>\n",
       "      <td>...</td>\n",
       "      <td>...</td>\n",
       "      <td>...</td>\n",
       "      <td>...</td>\n",
       "      <td>...</td>\n",
       "      <td>...</td>\n",
       "      <td>...</td>\n",
       "      <td>...</td>\n",
       "      <td>...</td>\n",
       "      <td>...</td>\n",
       "      <td>...</td>\n",
       "      <td>...</td>\n",
       "      <td>...</td>\n",
       "      <td>...</td>\n",
       "      <td>...</td>\n",
       "      <td>...</td>\n",
       "      <td>...</td>\n",
       "      <td>...</td>\n",
       "      <td>...</td>\n",
       "    </tr>\n",
       "    <tr>\n",
       "      <th>39781</th>\n",
       "      <td>92187</td>\n",
       "      <td>92,174</td>\n",
       "      <td>2,500</td>\n",
       "      <td>2,500</td>\n",
       "      <td>1,075</td>\n",
       "      <td>36 months</td>\n",
       "      <td>8.07%</td>\n",
       "      <td>78.42</td>\n",
       "      <td>A</td>\n",
       "      <td>A4</td>\n",
       "      <td>...</td>\n",
       "      <td>Jun-2010</td>\n",
       "      <td>NaN</td>\n",
       "      <td>1</td>\n",
       "      <td>INDIVIDUAL</td>\n",
       "      <td>0</td>\n",
       "      <td>NaN</td>\n",
       "      <td>0</td>\n",
       "      <td>NaN</td>\n",
       "      <td>NaN</td>\n",
       "      <td>0</td>\n",
       "    </tr>\n",
       "    <tr>\n",
       "      <th>39782</th>\n",
       "      <td>90665</td>\n",
       "      <td>90,607</td>\n",
       "      <td>8,500</td>\n",
       "      <td>8,500</td>\n",
       "      <td>875</td>\n",
       "      <td>36 months</td>\n",
       "      <td>10.28%</td>\n",
       "      <td>275.38</td>\n",
       "      <td>C</td>\n",
       "      <td>C1</td>\n",
       "      <td>...</td>\n",
       "      <td>Jul-2010</td>\n",
       "      <td>NaN</td>\n",
       "      <td>1</td>\n",
       "      <td>INDIVIDUAL</td>\n",
       "      <td>0</td>\n",
       "      <td>NaN</td>\n",
       "      <td>0</td>\n",
       "      <td>NaN</td>\n",
       "      <td>NaN</td>\n",
       "      <td>0</td>\n",
       "    </tr>\n",
       "    <tr>\n",
       "      <th>39783</th>\n",
       "      <td>90395</td>\n",
       "      <td>90,390</td>\n",
       "      <td>5,000</td>\n",
       "      <td>5,000</td>\n",
       "      <td>1,325</td>\n",
       "      <td>36 months</td>\n",
       "      <td>8.07%</td>\n",
       "      <td>156.84</td>\n",
       "      <td>A</td>\n",
       "      <td>A4</td>\n",
       "      <td>...</td>\n",
       "      <td>Jun-2007</td>\n",
       "      <td>NaN</td>\n",
       "      <td>1</td>\n",
       "      <td>INDIVIDUAL</td>\n",
       "      <td>0</td>\n",
       "      <td>NaN</td>\n",
       "      <td>0</td>\n",
       "      <td>NaN</td>\n",
       "      <td>NaN</td>\n",
       "      <td>0</td>\n",
       "    </tr>\n",
       "    <tr>\n",
       "      <th>39784</th>\n",
       "      <td>90376</td>\n",
       "      <td>89,243</td>\n",
       "      <td>5,000</td>\n",
       "      <td>5,000</td>\n",
       "      <td>650</td>\n",
       "      <td>36 months</td>\n",
       "      <td>7.43%</td>\n",
       "      <td>155.38</td>\n",
       "      <td>A</td>\n",
       "      <td>A2</td>\n",
       "      <td>...</td>\n",
       "      <td>Jun-2007</td>\n",
       "      <td>NaN</td>\n",
       "      <td>1</td>\n",
       "      <td>INDIVIDUAL</td>\n",
       "      <td>0</td>\n",
       "      <td>NaN</td>\n",
       "      <td>0</td>\n",
       "      <td>NaN</td>\n",
       "      <td>NaN</td>\n",
       "      <td>0</td>\n",
       "    </tr>\n",
       "    <tr>\n",
       "      <th>39785</th>\n",
       "      <td>87023</td>\n",
       "      <td>86,999</td>\n",
       "      <td>7,500</td>\n",
       "      <td>7,500</td>\n",
       "      <td>800</td>\n",
       "      <td>36 months</td>\n",
       "      <td>13.75%</td>\n",
       "      <td>255.43</td>\n",
       "      <td>E</td>\n",
       "      <td>E2</td>\n",
       "      <td>...</td>\n",
       "      <td>Jun-2010</td>\n",
       "      <td>NaN</td>\n",
       "      <td>1</td>\n",
       "      <td>INDIVIDUAL</td>\n",
       "      <td>0</td>\n",
       "      <td>NaN</td>\n",
       "      <td>0</td>\n",
       "      <td>NaN</td>\n",
       "      <td>NaN</td>\n",
       "      <td>0</td>\n",
       "    </tr>\n",
       "  </tbody>\n",
       "</table>\n",
       "<p>3222 rows × 52 columns</p>\n",
       "</div>"
      ],
      "text/plain": [
       "            id  member_id  loan_amnt  funded_amnt  funded_amnt_inv  \\\n",
       "0      1077501  1,296,599      5,000        5,000            4,975   \n",
       "2      1077175  1,313,524      2,400        2,400            2,400   \n",
       "8      1071795  1,306,957      5,600        5,600            5,600   \n",
       "26     1069800  1,304,679     15,000       15,000            8,725   \n",
       "30     1032111  1,261,745      4,375        4,375            4,375   \n",
       "...        ...        ...        ...          ...              ...   \n",
       "39781    92187     92,174      2,500        2,500            1,075   \n",
       "39782    90665     90,607      8,500        8,500              875   \n",
       "39783    90395     90,390      5,000        5,000            1,325   \n",
       "39784    90376     89,243      5,000        5,000              650   \n",
       "39785    87023     86,999      7,500        7,500              800   \n",
       "\n",
       "             term int_rate  installment grade sub_grade  ...  \\\n",
       "0       36 months   10.65%       162.87     B        B2  ...   \n",
       "2       36 months   15.96%        84.33     C        C5  ...   \n",
       "8       60 months   21.28%       152.39     F        F2  ...   \n",
       "26      36 months   14.27%       514.64     C        C2  ...   \n",
       "30      36 months    7.51%       136.11     A        A3  ...   \n",
       "...           ...      ...          ...   ...       ...  ...   \n",
       "39781   36 months    8.07%        78.42     A        A4  ...   \n",
       "39782   36 months   10.28%       275.38     C        C1  ...   \n",
       "39783   36 months    8.07%       156.84     A        A4  ...   \n",
       "39784   36 months    7.43%       155.38     A        A2  ...   \n",
       "39785   36 months   13.75%       255.43     E        E2  ...   \n",
       "\n",
       "      last_credit_pull_d collections_12_mths_ex_med policy_code  \\\n",
       "0               Jun-2016                          0           1   \n",
       "2               Jun-2016                          0           1   \n",
       "8               Aug-2012                          0           1   \n",
       "26              Jun-2016                          0           1   \n",
       "30              Dec-2014                          0           1   \n",
       "...                  ...                        ...         ...   \n",
       "39781           Jun-2010                        NaN           1   \n",
       "39782           Jul-2010                        NaN           1   \n",
       "39783           Jun-2007                        NaN           1   \n",
       "39784           Jun-2007                        NaN           1   \n",
       "39785           Jun-2010                        NaN           1   \n",
       "\n",
       "       application_type acc_now_delinq chargeoff_within_12_mths delinq_amnt  \\\n",
       "0            INDIVIDUAL              0                        0           0   \n",
       "2            INDIVIDUAL              0                        0           0   \n",
       "8            INDIVIDUAL              0                        0           0   \n",
       "26           INDIVIDUAL              0                        0           0   \n",
       "30           INDIVIDUAL              0                        0           0   \n",
       "...                 ...            ...                      ...         ...   \n",
       "39781        INDIVIDUAL              0                      NaN           0   \n",
       "39782        INDIVIDUAL              0                      NaN           0   \n",
       "39783        INDIVIDUAL              0                      NaN           0   \n",
       "39784        INDIVIDUAL              0                      NaN           0   \n",
       "39785        INDIVIDUAL              0                      NaN           0   \n",
       "\n",
       "      pub_rec_bankruptcies tax_liens default  \n",
       "0                        0         0       0  \n",
       "2                        0         0       0  \n",
       "8                        0         0       1  \n",
       "26                       0         0       1  \n",
       "30                       0         0       0  \n",
       "...                    ...       ...     ...  \n",
       "39781                  NaN       NaN       0  \n",
       "39782                  NaN       NaN       0  \n",
       "39783                  NaN       NaN       0  \n",
       "39784                  NaN       NaN       0  \n",
       "39785                  NaN       NaN       0  \n",
       "\n",
       "[3222 rows x 52 columns]"
      ]
     },
     "execution_count": 12,
     "metadata": {},
     "output_type": "execute_result"
    }
   ],
   "source": [
    "data[data.isnull().any(axis=1)]"
   ]
  },
  {
   "cell_type": "code",
   "execution_count": 13,
   "metadata": {
    "ExecuteTime": {
     "end_time": "2019-11-17T17:36:49.467223Z",
     "start_time": "2019-11-17T17:36:49.408239Z"
    },
    "colab": {
     "base_uri": "https://localhost:8080/"
    },
    "hidden": true,
    "id": "s7o5QePgr1AS",
    "outputId": "78d9a115-ab0c-420e-9a94-c63ee87c0918"
   },
   "outputs": [
    {
     "name": "stdout",
     "output_type": "stream",
     "text": [
      "Original: 38770 rows. Dropped: 3222 rows. Remaining: 35548 rows.\n"
     ]
    }
   ],
   "source": [
    "# Drop duplicates\n",
    "old_len = len(data)\n",
    "data.dropna(how = \"any\", inplace = True)\n",
    "print(\"Original: {} rows. Dropped: {} rows. Remaining: {} rows.\".format(\n",
    "    old_len, old_len - len(data), len(data)))"
   ]
  },
  {
   "cell_type": "code",
   "execution_count": 14,
   "metadata": {},
   "outputs": [
    {
     "data": {
      "text/html": [
       "<div>\n",
       "<style scoped>\n",
       "    .dataframe tbody tr th:only-of-type {\n",
       "        vertical-align: middle;\n",
       "    }\n",
       "\n",
       "    .dataframe tbody tr th {\n",
       "        vertical-align: top;\n",
       "    }\n",
       "\n",
       "    .dataframe thead th {\n",
       "        text-align: right;\n",
       "    }\n",
       "</style>\n",
       "<table border=\"1\" class=\"dataframe\">\n",
       "  <thead>\n",
       "    <tr style=\"text-align: right;\">\n",
       "      <th></th>\n",
       "      <th>id</th>\n",
       "      <th>member_id</th>\n",
       "      <th>loan_amnt</th>\n",
       "      <th>funded_amnt</th>\n",
       "      <th>funded_amnt_inv</th>\n",
       "      <th>term</th>\n",
       "      <th>int_rate</th>\n",
       "      <th>installment</th>\n",
       "      <th>grade</th>\n",
       "      <th>sub_grade</th>\n",
       "      <th>...</th>\n",
       "      <th>last_credit_pull_d</th>\n",
       "      <th>collections_12_mths_ex_med</th>\n",
       "      <th>policy_code</th>\n",
       "      <th>application_type</th>\n",
       "      <th>acc_now_delinq</th>\n",
       "      <th>chargeoff_within_12_mths</th>\n",
       "      <th>delinq_amnt</th>\n",
       "      <th>pub_rec_bankruptcies</th>\n",
       "      <th>tax_liens</th>\n",
       "      <th>default</th>\n",
       "    </tr>\n",
       "  </thead>\n",
       "  <tbody>\n",
       "    <tr>\n",
       "      <th>1</th>\n",
       "      <td>1077430</td>\n",
       "      <td>1,314,167</td>\n",
       "      <td>2,500</td>\n",
       "      <td>2,500</td>\n",
       "      <td>2,500</td>\n",
       "      <td>60 months</td>\n",
       "      <td>15.27%</td>\n",
       "      <td>59.83</td>\n",
       "      <td>C</td>\n",
       "      <td>C4</td>\n",
       "      <td>...</td>\n",
       "      <td>Sep-2013</td>\n",
       "      <td>0</td>\n",
       "      <td>1</td>\n",
       "      <td>INDIVIDUAL</td>\n",
       "      <td>0</td>\n",
       "      <td>0</td>\n",
       "      <td>0</td>\n",
       "      <td>0</td>\n",
       "      <td>0</td>\n",
       "      <td>1</td>\n",
       "    </tr>\n",
       "    <tr>\n",
       "      <th>3</th>\n",
       "      <td>1076863</td>\n",
       "      <td>1,277,178</td>\n",
       "      <td>10,000</td>\n",
       "      <td>10,000</td>\n",
       "      <td>10,000</td>\n",
       "      <td>36 months</td>\n",
       "      <td>13.49%</td>\n",
       "      <td>339.31</td>\n",
       "      <td>C</td>\n",
       "      <td>C1</td>\n",
       "      <td>...</td>\n",
       "      <td>Apr-2016</td>\n",
       "      <td>0</td>\n",
       "      <td>1</td>\n",
       "      <td>INDIVIDUAL</td>\n",
       "      <td>0</td>\n",
       "      <td>0</td>\n",
       "      <td>0</td>\n",
       "      <td>0</td>\n",
       "      <td>0</td>\n",
       "      <td>0</td>\n",
       "    </tr>\n",
       "    <tr>\n",
       "      <th>5</th>\n",
       "      <td>1075269</td>\n",
       "      <td>1,311,441</td>\n",
       "      <td>5,000</td>\n",
       "      <td>5,000</td>\n",
       "      <td>5,000</td>\n",
       "      <td>36 months</td>\n",
       "      <td>7.90%</td>\n",
       "      <td>156.46</td>\n",
       "      <td>A</td>\n",
       "      <td>A4</td>\n",
       "      <td>...</td>\n",
       "      <td>Jan-2016</td>\n",
       "      <td>0</td>\n",
       "      <td>1</td>\n",
       "      <td>INDIVIDUAL</td>\n",
       "      <td>0</td>\n",
       "      <td>0</td>\n",
       "      <td>0</td>\n",
       "      <td>0</td>\n",
       "      <td>0</td>\n",
       "      <td>0</td>\n",
       "    </tr>\n",
       "    <tr>\n",
       "      <th>6</th>\n",
       "      <td>1069639</td>\n",
       "      <td>1,304,742</td>\n",
       "      <td>7,000</td>\n",
       "      <td>7,000</td>\n",
       "      <td>7,000</td>\n",
       "      <td>60 months</td>\n",
       "      <td>15.96%</td>\n",
       "      <td>170.08</td>\n",
       "      <td>C</td>\n",
       "      <td>C5</td>\n",
       "      <td>...</td>\n",
       "      <td>May-2016</td>\n",
       "      <td>0</td>\n",
       "      <td>1</td>\n",
       "      <td>INDIVIDUAL</td>\n",
       "      <td>0</td>\n",
       "      <td>0</td>\n",
       "      <td>0</td>\n",
       "      <td>0</td>\n",
       "      <td>0</td>\n",
       "      <td>0</td>\n",
       "    </tr>\n",
       "    <tr>\n",
       "      <th>7</th>\n",
       "      <td>1072053</td>\n",
       "      <td>1,288,686</td>\n",
       "      <td>3,000</td>\n",
       "      <td>3,000</td>\n",
       "      <td>3,000</td>\n",
       "      <td>36 months</td>\n",
       "      <td>18.64%</td>\n",
       "      <td>109.43</td>\n",
       "      <td>E</td>\n",
       "      <td>E1</td>\n",
       "      <td>...</td>\n",
       "      <td>Dec-2014</td>\n",
       "      <td>0</td>\n",
       "      <td>1</td>\n",
       "      <td>INDIVIDUAL</td>\n",
       "      <td>0</td>\n",
       "      <td>0</td>\n",
       "      <td>0</td>\n",
       "      <td>0</td>\n",
       "      <td>0</td>\n",
       "      <td>0</td>\n",
       "    </tr>\n",
       "  </tbody>\n",
       "</table>\n",
       "<p>5 rows × 52 columns</p>\n",
       "</div>"
      ],
      "text/plain": [
       "        id  member_id  loan_amnt  funded_amnt  funded_amnt_inv        term  \\\n",
       "1  1077430  1,314,167      2,500        2,500            2,500   60 months   \n",
       "3  1076863  1,277,178     10,000       10,000           10,000   36 months   \n",
       "5  1075269  1,311,441      5,000        5,000            5,000   36 months   \n",
       "6  1069639  1,304,742      7,000        7,000            7,000   60 months   \n",
       "7  1072053  1,288,686      3,000        3,000            3,000   36 months   \n",
       "\n",
       "  int_rate  installment grade sub_grade  ... last_credit_pull_d  \\\n",
       "1   15.27%        59.83     C        C4  ...           Sep-2013   \n",
       "3   13.49%       339.31     C        C1  ...           Apr-2016   \n",
       "5    7.90%       156.46     A        A4  ...           Jan-2016   \n",
       "6   15.96%       170.08     C        C5  ...           May-2016   \n",
       "7   18.64%       109.43     E        E1  ...           Dec-2014   \n",
       "\n",
       "  collections_12_mths_ex_med policy_code  application_type acc_now_delinq  \\\n",
       "1                          0           1        INDIVIDUAL              0   \n",
       "3                          0           1        INDIVIDUAL              0   \n",
       "5                          0           1        INDIVIDUAL              0   \n",
       "6                          0           1        INDIVIDUAL              0   \n",
       "7                          0           1        INDIVIDUAL              0   \n",
       "\n",
       "  chargeoff_within_12_mths delinq_amnt pub_rec_bankruptcies tax_liens default  \n",
       "1                        0           0                    0         0       1  \n",
       "3                        0           0                    0         0       0  \n",
       "5                        0           0                    0         0       0  \n",
       "6                        0           0                    0         0       0  \n",
       "7                        0           0                    0         0       0  \n",
       "\n",
       "[5 rows x 52 columns]"
      ]
     },
     "execution_count": 14,
     "metadata": {},
     "output_type": "execute_result"
    }
   ],
   "source": [
    "data.head()"
   ]
  },
  {
   "cell_type": "markdown",
   "metadata": {
    "hidden": true,
    "id": "X1BNGMVJr1AS"
   },
   "source": [
    "#### Drop columns that contain only 1 unique value\n",
    "\n",
    "These columns do not add any information to each observation"
   ]
  },
  {
   "cell_type": "code",
   "execution_count": 15,
   "metadata": {
    "ExecuteTime": {
     "end_time": "2019-11-17T17:36:49.815222Z",
     "start_time": "2019-11-17T17:36:49.594216Z"
    },
    "colab": {
     "base_uri": "https://localhost:8080/"
    },
    "hidden": true,
    "id": "e9lx9PoYr1AS",
    "outputId": "d5612b87-a17b-4e02-d7e2-cadae009ba17"
   },
   "outputs": [
    {
     "name": "stdout",
     "output_type": "stream",
     "text": [
      "Original: 52 columns. Dropped: 11 columns. Remaining: 41 columns.\n",
      "Dropped columns:\n",
      "pymnt_plan\n",
      "initial_list_status\n",
      "out_prncp\n",
      "out_prncp_inv\n",
      "collections_12_mths_ex_med\n",
      "policy_code\n",
      "application_type\n",
      "acc_now_delinq\n",
      "chargeoff_within_12_mths\n",
      "delinq_amnt\n",
      "tax_liens\n"
     ]
    }
   ],
   "source": [
    "# Drop columns with only 1 unique value\n",
    "old_len = len(data.columns)\n",
    "num_unique = data.nunique()\n",
    "data.drop(num_unique[num_unique <= 1].index, axis=1, inplace=True)\n",
    "\n",
    "print(\n",
    "    \"Original: {} columns. Dropped: {} columns. Remaining: {} columns.\".format(\n",
    "        old_len, old_len - len(data.columns), len(data.columns)))\n",
    "\n",
    "print(\"Dropped columns:\")\n",
    "for col in num_unique[num_unique <= 1].index:\n",
    "    print(col)\n"
   ]
  },
  {
   "cell_type": "markdown",
   "metadata": {
    "hidden": true,
    "id": "BLJIhAotr1AT"
   },
   "source": [
    "#### Drop redundant or non-useful columns\n",
    "\n",
    "Certain columns contain information that are not useful for prediction, or redundant information that has been fully captured by another column.\n",
    "\n",
    "* `id`: arbitrary number assigned by Lending Club\n",
    "* `member_id`: same as `id`\n",
    "* `emp_title`: highly unstructured text data, not useful unless significant cleaning is performed\n",
    "* `title`: same as `emp_title`\n",
    "* `zip_code`: redundant since the `addr_state` column already captures all geographical information revealed by the first 3 digits of `zip_code`"
   ]
  },
  {
   "cell_type": "code",
   "execution_count": 16,
   "metadata": {
    "ExecuteTime": {
     "end_time": "2019-11-17T17:36:49.830401Z",
     "start_time": "2019-11-17T17:36:49.817142Z"
    },
    "colab": {
     "base_uri": "https://localhost:8080/"
    },
    "hidden": true,
    "id": "57s5vIdhr1AT",
    "outputId": "6c107f63-776a-4eb0-bb47-b276020a34af"
   },
   "outputs": [
    {
     "name": "stdout",
     "output_type": "stream",
     "text": [
      "Original: 41 columns. Dropped: 5 columns. Remaining: 36 columns.\n"
     ]
    }
   ],
   "source": [
    "# Drop redundant or non-useful columns\n",
    "drop_cols = [\"id\", \"member_id\", \"emp_title\", \"title\", \"zip_code\"]\n",
    "old_len = len(data.columns)\n",
    "data.drop(drop_cols, axis = 1, inplace = True)\n",
    "print(\n",
    "    \"Original: {} columns. Dropped: {} columns. Remaining: {} columns.\".format(\n",
    "        old_len, old_len - len(data.columns), len(data.columns)))"
   ]
  },
  {
   "cell_type": "markdown",
   "metadata": {
    "hidden": true,
    "id": "Bf4iG4mVr1AU"
   },
   "source": [
    "#### Drop columns which contain information not available at application\n",
    "\n",
    "This model aims to predict, at the point of loan application, whether a borrower would eventually default. Certain information would not be available at the point of loan application and may introduce lookahead bias and/or cause overfitting. Columns with such information are listed below, and will be removed.\n",
    "\n",
    "* `funded_amnt` and `funded_amnt_inv`: only known after the loan has already been funded\n",
    "* `total_pymnt` and `total_pymnt_inv`: only known after the loan has started to be paid off\n",
    "* `total_rec_prncp`, `total_rec_int`, and `total_rec_late_fee`: only known after the loan has started to be paid off\n",
    "* `recoveries` and `collection_recovery_fee`: only known after the loan has defaulted\n",
    "* `last_pymnt_d` and `last_pymnt_amnt`: only known after the loan has started to be paid off\n",
    "* `last_credit_pull_d`: only known after the loan has already been funded\n",
    "* `grade` and `sub_grade`: assigned by Lending Club after credit scoring, but not available at the point of application\n",
    "* `int_rate`: depends on `sub_grade`\n",
    "* `installment`: depends on `int_rate`\n",
    "\n",
    "One particular column, `issue_d`, also contains information not available at application time (issue date is only known after funding has completed). However, according to [Lending Club](https://help.lendingclub.com/hc/en-us/articles/215492738-How-long-does-it-take-to-get-approved-), an average application takes around 7 days to be approved and funded. Thus the deviation between issue date and application date is likely to be small. Instead of removing the column, we can thus use `issue_d` as an approximate for time of application, which might contain useful information."
   ]
  },
  {
   "cell_type": "code",
   "execution_count": 28,
   "metadata": {},
   "outputs": [
    {
     "data": {
      "text/plain": [
       "1        Dec-2011\n",
       "3        Dec-2011\n",
       "5        Dec-2011\n",
       "6        Dec-2011\n",
       "7        Dec-2011\n",
       "           ...   \n",
       "39502    Jan-2008\n",
       "39544    Dec-2007\n",
       "39620    Dec-2007\n",
       "39631    Nov-2007\n",
       "39692    Oct-2007\n",
       "Name: issue_d, Length: 35548, dtype: object"
      ]
     },
     "execution_count": 28,
     "metadata": {},
     "output_type": "execute_result"
    }
   ],
   "source": [
    "data[\"issue_d\"].astype('str')"
   ]
  },
  {
   "cell_type": "code",
   "execution_count": 29,
   "metadata": {
    "ExecuteTime": {
     "end_time": "2019-11-17T17:36:50.151734Z",
     "start_time": "2019-11-17T17:36:49.994180Z"
    },
    "colab": {
     "base_uri": "https://localhost:8080/"
    },
    "hidden": true,
    "id": "ObM2loqBr1AV",
    "outputId": "fe70dd0d-f7ac-4666-8aa0-db5bcb692335"
   },
   "outputs": [
    {
     "name": "stdout",
     "output_type": "stream",
     "text": [
      "Original: 36 columns. Dropped: 16 columns. Remaining: 20 columns.\n"
     ]
    }
   ],
   "source": [
    "# Drop columns with information not available at origination\n",
    "drop_cols = [\n",
    "    \"funded_amnt\", \"funded_amnt_inv\", \"total_pymnt\",\n",
    "    \"total_pymnt_inv\", \"total_rec_prncp\", \"total_rec_int\",\n",
    "    \"total_rec_late_fee\", \"recoveries\", \"collection_recovery_fee\",\n",
    "    \"last_pymnt_d\", \"last_pymnt_amnt\", \"last_credit_pull_d\", \n",
    "    \"grade\", \"sub_grade\", \"int_rate\", \"installment\"\n",
    "]\n",
    "\n",
    "old_len = len(data.columns)\n",
    "data.drop(drop_cols, axis=1, inplace=True)\n",
    "print(\n",
    "    \"Original: {} columns. Dropped: {} columns. Remaining: {} columns.\".format(\n",
    "        old_len, old_len - len(data.columns), len(data.columns)))\n",
    "\n",
    "\n",
    "# Use issue date as proxy for application time\n",
    "data.rename({\"issue_d\": \"app_time\"}, axis = 1, inplace = True)\n",
    "data[\"app_time\"] = pd.to_datetime(data.app_time.astype(str), format = \"%b-%Y\")"
   ]
  },
  {
   "cell_type": "markdown",
   "metadata": {
    "hidden": true,
    "id": "EwASK1DWr1AV"
   },
   "source": [
    "#### Re-format numeric columns\n",
    "\n",
    "Some numeric columns, e.g `term`, `revol_util` are formatted as text, and need to be re-formatted to float or integer type. Column `empl_length` contains inherently numeric data but is treated as categorical, thus we re-convert it to numeric type. "
   ]
  },
  {
   "cell_type": "code",
   "execution_count": 30,
   "metadata": {
    "ExecuteTime": {
     "end_time": "2019-11-17T17:36:50.321198Z",
     "start_time": "2019-11-17T17:36:50.245116Z"
    },
    "hidden": true,
    "id": "lxAdCMnQr1AW"
   },
   "outputs": [],
   "source": [
    "# Re-format numeric columns\n",
    "data.term = [int(str(term).strip().split(\" \")[0]) for term in data.term]\n",
    "data.revol_util = [float(str(util[:-1])) for util in data.revol_util]\n",
    "\n",
    "# Map employment length to integers: < 1 year is mapped to 0, >= 10 is mapped to 10\n",
    "data[\"emp_length\"] = [\"0 year\" if length == \"< 1 year\" \n",
    "                      else \"10 years\" if length == \"10+ years\"\n",
    "                      else length for length in data.emp_length]\n",
    "\n",
    "data[\"emp_length\"] = [int(str(length).split(\" \")[0]) for length in data.emp_length]"
   ]
  },
  {
   "cell_type": "markdown",
   "metadata": {
    "heading_collapsed": true,
    "id": "76f_qMz8r1AW"
   },
   "source": [
    "## Data visualization"
   ]
  },
  {
   "cell_type": "markdown",
   "metadata": {
    "hidden": true,
    "id": "ebqcIXbYr1AW"
   },
   "source": [
    "#### Univariate distribution of numeric columns\n",
    "\n",
    "Observations:\n",
    "* Many numeric columns appear to be right-skewed or resemble a lognormal distribution, e.g `loan_amnt`, `emp_length`, `open_acc`, `total_acc`, `revol_bal`, etc.\n",
    "* Some columns may potentially be highly correlated, e.g: `open_acc` and `total_acc`. \n",
    "* `Annual_income` appears to contain some extreme right ouliers. "
   ]
  },
  {
   "cell_type": "code",
   "execution_count": 31,
   "metadata": {
    "ExecuteTime": {
     "end_time": "2019-11-17T17:36:53.248141Z",
     "start_time": "2019-11-17T17:36:50.615224Z"
    },
    "hidden": true,
    "id": "0IcSEBIlr1AX",
    "outputId": "c1347800-3d28-49b4-a2b0-047405c44bd4"
   },
   "outputs": [
    {
     "data": {
      "image/png": "[encoded data removed]",
      "text/plain": [
       "<Figure size 1080x360 with 4 Axes>"
      ]
     },
     "metadata": {
      "needs_background": "light"
     },
     "output_type": "display_data"
    },
    {
     "data": {
      "image/png": "[encoded data removed]",
      "text/plain": [
       "<Figure size 1080x360 with 4 Axes>"
      ]
     },
     "metadata": {
      "needs_background": "light"
     },
     "output_type": "display_data"
    },
    {
     "data": {
      "image/png": "[encoded data removed]",
      "text/plain": [
       "<Figure size 1080x360 with 4 Axes>"
      ]
     },
     "metadata": {
      "needs_background": "light"
     },
     "output_type": "display_data"
    },
    {
     "data": {
      "image/png": "[encoded data removed]",
      "text/plain": [
       "<Figure size 1080x360 with 4 Axes>"
      ]
     },
     "metadata": {
      "needs_background": "light"
     },
     "output_type": "display_data"
    }
   ],
   "source": [
    "features = data._get_numeric_data().columns\n",
    "\n",
    "for i in range(len(features)):\n",
    "    if i % 4 == 0:\n",
    "        fig, (ax1, ax2, ax3, ax4) = plt.subplots(1, 4, figsize=(15, 5))\n",
    "        ax1.hist(data[features[i]], bins = 50, rwidth = 0.5, label=features[i])\n",
    "        ax1.legend(loc = \"best\")\n",
    "    elif i % 4 == 1:\n",
    "        ax2.hist(data[features[i]], bins = 50, rwidth = 0.5, label=features[i])\n",
    "        ax2.legend(loc = \"best\")\n",
    "    elif i % 4 == 2:\n",
    "        ax3.hist(data[features[i]], bins = 50, rwidth = 0.5, label=features[i])\n",
    "        ax3.legend(loc = \"best\")\n",
    "    elif i % 4 == 3:\n",
    "        ax4.hist(data[features[i]], bins = 50, rwidth = 0.5, label=features[i])\n",
    "        ax4.legend(loc = \"best\")\n",
    "    \n",
    "        \n",
    "plt.show()"
   ]
  },
  {
   "cell_type": "markdown",
   "metadata": {
    "hidden": true,
    "id": "m9RsyVuXr1AX"
   },
   "source": [
    "Looking at annual income without the outliers (the top 1% and bottom 1% is winsorized), the data appears to resemble a lognormal distribution as well."
   ]
  },
  {
   "cell_type": "code",
   "execution_count": 32,
   "metadata": {
    "ExecuteTime": {
     "end_time": "2019-11-17T17:36:53.458306Z",
     "start_time": "2019-11-17T17:36:53.249140Z"
    },
    "hidden": true,
    "id": "iYroaUATr1AX",
    "outputId": "c6091729-f523-4789-8d75-cc56be025b3f"
   },
   "outputs": [
    {
     "data": {
      "text/plain": [
       "(array([ 759.,  631., 1388., 1668., 2020., 2199., 2424., 1702., 2411.,\n",
       "        2212., 2212., 1803., 1544., 1808.,  817., 1237., 1150.,  920.,\n",
       "         779.,  902.,  469.,  312.,  482.,  345.,  562.,  330.,  302.,\n",
       "         186.,   91.,  248.,  104.,  232.,   85.,  138.,   66.,   32.,\n",
       "          88.,   81.,   95.,   49.,   36.,   27.,   11.,  126.,   17.,\n",
       "          21.,   13.,   20.,   30.,  364.]),\n",
       " array([ 15120. ,  19417.6,  23715.2,  28012.8,  32310.4,  36608. ,\n",
       "         40905.6,  45203.2,  49500.8,  53798.4,  58096. ,  62393.6,\n",
       "         66691.2,  70988.8,  75286.4,  79584. ,  83881.6,  88179.2,\n",
       "         92476.8,  96774.4, 101072. , 105369.6, 109667.2, 113964.8,\n",
       "        118262.4, 122560. , 126857.6, 131155.2, 135452.8, 139750.4,\n",
       "        144048. , 148345.6, 152643.2, 156940.8, 161238.4, 165536. ,\n",
       "        169833.6, 174131.2, 178428.8, 182726.4, 187024. , 191321.6,\n",
       "        195619.2, 199916.8, 204214.4, 208512. , 212809.6, 217107.2,\n",
       "        221404.8, 225702.4, 230000. ]),\n",
       " <BarContainer object of 50 artists>)"
      ]
     },
     "execution_count": 32,
     "metadata": {},
     "output_type": "execute_result"
    },
    {
     "data": {
      "image/png": "[encoded data removed]",
      "text/plain": [
       "<Figure size 720x432 with 1 Axes>"
      ]
     },
     "metadata": {
      "needs_background": "light"
     },
     "output_type": "display_data"
    }
   ],
   "source": [
    "from scipy.stats.mstats import winsorize\n",
    "income_winsorized = winsorize(data.annual_inc, limits = (0.01, 0.01), inplace = False)\n",
    "plt.figure(figsize = (10, 6))\n",
    "plt.title(\"Histogram of annual income (winsorized top/bottom 1%)\")\n",
    "plt.hist(income_winsorized, bins = 50, rwidth = 0.5, label = \"Annual Income\")"
   ]
  },
  {
   "cell_type": "markdown",
   "metadata": {
    "heading_collapsed": true,
    "hidden": true,
    "id": "chCQKpL2r1AX"
   },
   "source": [
    "#### Target variable distribution\n",
    "\n",
    "The target variable is heavily imbalanced towards the non-defaults. Model training needs to account for this distribution, otherwise it is likely to result in models with high accuracy but low recall (high accuracy can be achieved trivially by predicting all as non-defaults). "
   ]
  },
  {
   "cell_type": "code",
   "execution_count": null,
   "metadata": {
    "ExecuteTime": {
     "end_time": "2019-11-17T17:36:53.578173Z",
     "start_time": "2019-11-17T17:36:53.459304Z"
    },
    "hidden": true,
    "id": "cUZCsYvvr1AY",
    "outputId": "3ecdc445-517a-4596-adbe-90c11677d947"
   },
   "outputs": [],
   "source": [
    "# Count plot of default status\n",
    "plt.figure(figsize = (10, 6))\n",
    "plt.title(\"Count of defaulted vs. non-default observations\")\n",
    "ax = sns.countplot(x = 'default', data = data)\n",
    "\n",
    "# Display the absolute count and percentage of total loans in each category\n",
    "for p in ax.patches:\n",
    "    height = p.get_height()\n",
    "    ax.text(p.get_x() + p.get_width() / 2., height / 2,\n",
    "            '{} ({}%)'.format(height, round(100 * height / len(data), 2)),\n",
    "            ha = \"center\")"
   ]
  },
  {
   "cell_type": "markdown",
   "metadata": {
    "heading_collapsed": true,
    "hidden": true,
    "id": "XUvXYPwor1AY"
   },
   "source": [
    "#### Monthly loan count over time\n",
    "\n",
    "Increasing trend in number of loans applied for each month, showing the increasing popularity of Lending Club as an avenue to access personal credit. "
   ]
  },
  {
   "cell_type": "code",
   "execution_count": null,
   "metadata": {
    "ExecuteTime": {
     "end_time": "2019-11-17T17:36:53.762328Z",
     "start_time": "2019-11-17T17:36:53.579131Z"
    },
    "hidden": true,
    "id": "lhAwd-fSr1AZ",
    "outputId": "b6d44700-a594-40d6-8c7b-92c0c079981c"
   },
   "outputs": [],
   "source": [
    "# Plot monthly loan count over time\n",
    "num_loans_by_time = data.groupby(\"app_time\")[\"default\"].count()\n",
    "plt.figure(figsize = (10, 6))\n",
    "plt.title(\"Number of loans over time\")\n",
    "plt.plot(num_loans_by_time)"
   ]
  },
  {
   "cell_type": "markdown",
   "metadata": {
    "heading_collapsed": true,
    "hidden": true,
    "id": "rg351S-vr1AZ"
   },
   "source": [
    "#### Monthly average default rate over time\n",
    "\n",
    "Excluding an abnormally high period at the start, average default rate seems to remain stable at around 20% between 2007 and 2011. Unsurprisingly, given the steady increase in monthly loan count and stable default rate, total defaults increase steadily over time as well."
   ]
  },
  {
   "cell_type": "code",
   "execution_count": null,
   "metadata": {
    "ExecuteTime": {
     "end_time": "2019-11-17T17:36:54.022479Z",
     "start_time": "2019-11-17T17:36:53.763326Z"
    },
    "hidden": true,
    "id": "iT0IkLyLr1AZ",
    "outputId": "0b085741-46fe-486f-b396-765d37c82c3b"
   },
   "outputs": [],
   "source": [
    "# Default rate over time\n",
    "total_default = data.groupby(\"app_time\")[\"default\"].sum()\n",
    "mean_default_rate = data.groupby(\"app_time\")[\"default\"].mean()\n",
    "\n",
    "fig, ax1 = plt.subplots(figsize = (10, 6))\n",
    "\n",
    "plt.title(\"Total defaults and mean default rate over time\")\n",
    "ax1.set_xlabel('time')\n",
    "ax1.set_ylabel('Total defaults', color = 'tab:red')\n",
    "ax1.plot(total_default, color = 'tab:red')\n",
    "ax1.tick_params(axis = 'y', labelcolor = 'tab:red')\n",
    "\n",
    "ax2 = ax1.twinx()  \n",
    "\n",
    "ax2.set_ylabel('Mean default rate', color = 'tab:blue')  \n",
    "ax2.plot(mean_default_rate, color = 'tab:blue')\n",
    "ax2.tick_params(axis = 'y', labelcolor = 'tab:blue')\n",
    "\n",
    "fig.tight_layout() \n",
    "plt.show()"
   ]
  },
  {
   "cell_type": "markdown",
   "metadata": {
    "heading_collapsed": true,
    "hidden": true,
    "id": "jJ8cXYobr1AZ"
   },
   "source": [
    "#### Average loan amount by purpose\n",
    "\n",
    "Loans for business were on average the highest among all documented purposes, followed by loans for housing needs (house purchase or home improvement) and financial needs (debt consolidation and credit cards). On the other end of the spectrum, discretionary expenses like vacation tend to have the lowest loan amounts."
   ]
  },
  {
   "cell_type": "code",
   "execution_count": null,
   "metadata": {
    "ExecuteTime": {
     "end_time": "2019-11-17T17:36:54.200088Z",
     "start_time": "2019-11-17T17:36:54.023513Z"
    },
    "hidden": true,
    "id": "9wkQnXOMr1AZ",
    "outputId": "6e2a86c8-a1d2-475d-99c0-d48e90ce036a"
   },
   "outputs": [],
   "source": [
    "loan_by_purpose = data.groupby(\"purpose\")[\"loan_amnt\"].mean().sort_values(ascending=False)\n",
    "plt.figure(figsize = (15, 6))\n",
    "plt.title(\"Average loan amount by purpose\")\n",
    "plt.barh(width = loan_by_purpose, y = loan_by_purpose.index)"
   ]
  },
  {
   "cell_type": "markdown",
   "metadata": {
    "heading_collapsed": true,
    "hidden": true,
    "id": "w-JVD0Uir1Aa"
   },
   "source": [
    "#### Visualising default rate by state\n",
    "\n",
    "States with highest default rates appear to be concentrated in the West Coast (e.g California), as well as South East region. Central states appear less likely to default."
   ]
  },
  {
   "cell_type": "code",
   "execution_count": null,
   "metadata": {
    "ExecuteTime": {
     "end_time": "2019-11-17T17:36:55.202353Z",
     "start_time": "2019-11-17T17:36:54.201041Z"
    },
    "hidden": true,
    "id": "tm_tfJbWr1Aa",
    "outputId": "a7ebab4f-5176-4937-ab7f-939c95c6f78d"
   },
   "outputs": [],
   "source": [
    "import folium\n",
    "from IPython.display import HTML\n",
    "\n",
    "\n",
    "default_by_state = pd.DataFrame(data.groupby(\"addr_state\")[\"default\"].mean()).reset_index()\n",
    "state_geo = r'https://gist.githubusercontent.com/datadave/108b5f382c838c3963d7/raw/3036216d894d49205948dbbfd562754ef3814785/us-states.json'\n",
    "\n",
    "map = folium.Map(location=[40, -100], zoom_start=4)\n",
    "\n",
    "map.choropleth(geo_data=state_geo, data=default_by_state,\n",
    "             columns=['addr_state', 'default'],\n",
    "             key_on='feature.id',\n",
    "             threshold_scale = [0, 0.03, 0.06, 0.09, 0.12,\n",
    "                                0.15, 0.18, 0.21, 0.24], \n",
    "             fill_color=\"YlOrRd\", fill_opacity=0.75, line_opacity=0.5, \n",
    "             legend_name='default rate') \n",
    "map"
   ]
  },
  {
   "cell_type": "markdown",
   "metadata": {
    "heading_collapsed": true,
    "id": "yh2z7hNyr1Aa"
   },
   "source": [
    "## Feature engineering"
   ]
  },
  {
   "cell_type": "markdown",
   "metadata": {
    "hidden": true,
    "id": "sobRWYQZr1Aa"
   },
   "source": [
    "#### Re-format datetime columns as time distance relative to a reference time point\n",
    "\n",
    "Datetime columns cannot be passed directly as features into a machine learning model. We thus re-format each datetime column as the time distance to a reference time point, i.e number of days / months / years passed since the reference point. \n",
    "\n",
    "Application time, `app_time`, is re-formatted as the number of months passed since January 2007, which is the start of this dataset.\n",
    "\n",
    "Earliest credit line, `earliest_cr_line`, is re-formatted as the time distance (in months) to the application time. This potentially extracts more useful information such as: \"How long has the earliest credit line been in place, at the point of application?\". "
   ]
  },
  {
   "cell_type": "code",
   "execution_count": null,
   "metadata": {
    "ExecuteTime": {
     "end_time": "2019-11-17T17:37:11.546423Z",
     "start_time": "2019-11-17T17:36:55.204357Z"
    },
    "hidden": true,
    "id": "oi1PmtmRr1Aa"
   },
   "outputs": [],
   "source": [
    "# Re-format earliest_cr_line as time distance relative to application time\n",
    "data[\"earliest_cr_line\"] = pd.to_datetime(data[\"earliest_cr_line\"],\n",
    "                                          format = \"%b-%y\")\n",
    "\n",
    "data[\"earliest_cr_line\"] = [\n",
    "    md.monthmod(dt.date(data.iloc[i][\"earliest_cr_line\"]),\n",
    "             dt.date(data.iloc[i][\"app_time\"]))[0].months\n",
    "    for i in range(len(data))\n",
    "]\n",
    "\n",
    "\n",
    "# Re-format app_time as time distance relative to January 2007 (start of dataset)\n",
    "ref_date = dt.date(dt(2007, 1, 1))\n",
    "\n",
    "data[\"app_time\"] = [\n",
    "    md.monthmod(ref_date, dt.date(data.iloc[i][\"app_time\"]))[0].months\n",
    "    for i in range(len(data))\n",
    "]"
   ]
  },
  {
   "cell_type": "markdown",
   "metadata": {
    "ExecuteTime": {
     "end_time": "2019-11-17T08:26:07.248531Z",
     "start_time": "2019-11-17T08:26:07.245537Z"
    },
    "hidden": true,
    "id": "rfTWUuEer1Aa"
   },
   "source": [
    "#### Convert categorical columns to dummy variables\n",
    "\n",
    "Column `addr_state` may contain useful information, but there are too many discrete values and we'd need to add too many dummy variables columns to use it for classification. The column is thus dropped instead.  "
   ]
  },
  {
   "cell_type": "code",
   "execution_count": null,
   "metadata": {
    "ExecuteTime": {
     "end_time": "2019-11-17T17:37:11.590476Z",
     "start_time": "2019-11-17T17:37:11.548231Z"
    },
    "hidden": true,
    "id": "eQRbZhiVr1Aa"
   },
   "outputs": [],
   "source": [
    "# Drop add_state column:\n",
    "data.drop(\"addr_state\", axis = 1, inplace = True)\n",
    "\n",
    "# Map verification status to 0 or 1\n",
    "data[\"verification_status\"] = [0 if status == \"Not Verified\" else 1 for status in data.verification_status]\n",
    "\n",
    "# Convert \"home_ownership\" and \"purpose\" to dummy variables\n",
    "dummy_cols = [\"home_ownership\", \"purpose\"]\n",
    "data = pd.concat([data, pd.get_dummies(data[dummy_cols])], axis = 1)\n",
    "data.drop(dummy_cols, axis = 1, inplace = True)"
   ]
  },
  {
   "cell_type": "markdown",
   "metadata": {
    "hidden": true,
    "id": "FRnAsIzBr1Ab"
   },
   "source": [
    "For each categorical variable converted to dummies, i.e `home_ownership` and `purpose`, one of the original categories must be removed to avoid multicollinearity issues, which would distort coefficients of linear models. "
   ]
  },
  {
   "cell_type": "code",
   "execution_count": null,
   "metadata": {
    "ExecuteTime": {
     "end_time": "2019-11-17T17:37:11.600130Z",
     "start_time": "2019-11-17T17:37:11.592113Z"
    },
    "hidden": true,
    "id": "vRWeuIwSr1Ab"
   },
   "outputs": [],
   "source": [
    "# Remove one category of dummy variables\n",
    "data.drop([\"home_ownership_OTHER\", \"purpose_other\"], axis =1, inplace = True)"
   ]
  },
  {
   "cell_type": "markdown",
   "metadata": {
    "id": "veR3qaqNr1Ab"
   },
   "source": [
    "## Model training"
   ]
  },
  {
   "cell_type": "code",
   "execution_count": null,
   "metadata": {
    "ExecuteTime": {
     "end_time": "2019-11-17T17:37:57.214755Z",
     "start_time": "2019-11-17T17:37:57.197173Z"
    },
    "id": "DSh9yH-xr1Ab"
   },
   "outputs": [],
   "source": [
    "# Reorganize target variable to the end of dataframe\n",
    "data[\"default2\"] = data[\"default\"]\n",
    "data.drop(\"default\", axis = 1, inplace = True)\n",
    "data.rename({\"default2\": \"default\"}, axis = 1, inplace = True)"
   ]
  },
  {
   "cell_type": "markdown",
   "metadata": {
    "id": "aAzPVNGFr1Ab"
   },
   "source": [
    "### Train/test split\n",
    "\n",
    "Train-test split must be done before feature selection to avoid using information from the eventual test set during the feature selection process, which may introduce unfair bias. We will use a stratified train-test split with 80% of the data in the training set, and 20% in the test set. As the dataset is highly imbalanced, a stratified split ensures that the proportion of defaults in the train and test set are similar.  "
   ]
  },
  {
   "cell_type": "markdown",
   "metadata": {
    "id": "NTgRWVp6vDEU"
   },
   "source": [
    "# New section"
   ]
  },
  {
   "cell_type": "code",
   "execution_count": null,
   "metadata": {
    "ExecuteTime": {
     "end_time": "2019-11-17T17:37:59.465071Z",
     "start_time": "2019-11-17T17:37:59.234902Z"
    },
    "id": "ZSNngEPMr1Ab"
   },
   "outputs": [],
   "source": [
    "# Extract X and y columns:\n",
    "X = data.iloc[:, :-1]\n",
    "y = data.iloc[:, -1:]\n",
    "\n",
    "# Train/test split\n",
    "from sklearn.model_selection import train_test_split\n",
    "X_train, X_test, y_train, y_test = train_test_split(X, y, stratify = y,\n",
    "                                                    test_size = 0.2,\n",
    "                                                    random_state = 0)"
   ]
  },
  {
   "cell_type": "markdown",
   "metadata": {
    "id": "BSWyOg40r1Ab"
   },
   "source": [
    "### K-fold cross-validation\n",
    "\n",
    "Instead of a single train-test split, model performance can be better estimated using a technique called cross validation. In one popular approach, K-fold cross validation, the training set is further split into K equal non-intersecting, complementary subsets. In each iteration of training, the model can be trained on K-1 of the subsets, and validated on the remaining one (not used in training). The validation results from these K iterations can be averaged out to give a more robust, less biased estimate of model performance than in a single train-test split. \n",
    "\n",
    "![image.png](attachment:image.png)"
   ]
  },
  {
   "cell_type": "markdown",
   "metadata": {
    "id": "i5DzbkqBr1Ab"
   },
   "source": [
    "#### Generate K folds from training set\n",
    "\n",
    "We select K = 5 for cross-validation, and each CV fold is generated using a stratified split similar to the train-test split earlier. This is to ensure that the ratio of defaults to non-defaults remain the same in our train and validation sets."
   ]
  },
  {
   "cell_type": "code",
   "execution_count": null,
   "metadata": {
    "ExecuteTime": {
     "end_time": "2019-11-17T17:38:05.207480Z",
     "start_time": "2019-11-17T17:38:05.132648Z"
    },
    "id": "YQV5fyCvr1Ac"
   },
   "outputs": [],
   "source": [
    "from sklearn.model_selection import StratifiedKFold\n",
    "skf = StratifiedKFold(n_splits = 5, random_state = 0)\n",
    "skf.split(X_train, y_train)\n",
    "\n",
    "X_train_train, X_validate = [], []\n",
    "y_train_train, y_validate = [], []\n",
    "\n",
    "for train_index, validate_index in skf.split(X_train, y_train):\n",
    "    X_train_train.append(X_train.iloc[list(train_index)])\n",
    "    X_validate.append(X_train.iloc[list(validate_index)])\n",
    "    y_train_train.append(y_train.iloc[list(train_index)])\n",
    "    y_validate.append(y_train.iloc[list(validate_index)])"
   ]
  }
 ],
 "metadata": {
  "colab": {
   "name": "Loan Default Prediction - Lending Club.ipynb",
   "provenance": [],
   "toc_visible": true
  },
  "kernelspec": {
   "display_name": "Python 3 (ipykernel)",
   "language": "python",
   "name": "python3"
  },
  "language_info": {
   "codemirror_mode": {
    "name": "ipython",
    "version": 3
   },
   "file_extension": ".py",
   "mimetype": "text/x-python",
   "name": "python",
   "nbconvert_exporter": "python",
   "pygments_lexer": "ipython3",
   "version": "3.9.7"
  },
  "toc": {
   "base_numbering": 1,
   "nav_menu": {},
   "number_sections": true,
   "sideBar": true,
   "skip_h1_title": false,
   "title_cell": "Table of Contents",
   "title_sidebar": "Contents",
   "toc_cell": false,
   "toc_position": {},
   "toc_section_display": true,
   "toc_window_display": false
  },
  "varInspector": {
   "cols": {
    "lenName": 16,
    "lenType": 16,
    "lenVar": 40
   },
   "kernels_config": {
    "python": {
     "delete_cmd_postfix": "",
     "delete_cmd_prefix": "del ",
     "library": "var_list.py",
     "varRefreshCmd": "print(var_dic_list())"
    },
    "r": {
     "delete_cmd_postfix": ") ",
     "delete_cmd_prefix": "rm(",
     "library": "var_list.r",
     "varRefreshCmd": "cat(var_dic_list()) "
    }
   },
   "types_to_exclude": [
    "module",
    "function",
    "builtin_function_or_method",
    "instance",
    "_Feature"
   ],
   "window_display": false
  }
 },
 "nbformat": 4,
 "nbformat_minor": 1
}
