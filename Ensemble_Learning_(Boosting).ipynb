{
  "cells": [
    {
      "cell_type": "code",
      "execution_count": null,
      "id": "gDmKYhzi8Zc9",
      "metadata": {
        "colab": {
          "base_uri": "https://localhost:8080/"
        },
        "id": "gDmKYhzi8Zc9",
        "outputId": "018ec997-4df8-42d0-da6d-ddad5010a305"
      },
      "outputs": [
        {
          "name": "stdout",
          "output_type": "stream",
          "text": [
            "Drive already mounted at /content/drive; to attempt to forcibly remount, call drive.mount(\"/content/drive\", force_remount=True).\n"
          ]
        }
      ],
      "source": [
        "from google.colab import drive\n",
        "drive.mount('/content/drive')"
      ]
    },
    {
      "cell_type": "code",
      "execution_count": null,
      "id": "9jwCg9mSBKwK",
      "metadata": {
        "colab": {
          "base_uri": "https://localhost:8080/"
        },
        "id": "9jwCg9mSBKwK",
        "outputId": "60bd5cdd-e672-4f7e-bffc-5721f64187f4"
      },
      "outputs": [
        {
          "name": "stdout",
          "output_type": "stream",
          "text": [
            "Requirement already satisfied: pandas==1.3.3 in /usr/local/lib/python3.7/dist-packages (1.3.3)\n",
            "Requirement already satisfied: python-dateutil>=2.7.3 in /usr/local/lib/python3.7/dist-packages (from pandas==1.3.3) (2.8.2)\n",
            "Requirement already satisfied: pytz>=2017.3 in /usr/local/lib/python3.7/dist-packages (from pandas==1.3.3) (2018.9)\n",
            "Requirement already satisfied: numpy>=1.17.3 in /usr/local/lib/python3.7/dist-packages (from pandas==1.3.3) (1.19.5)\n",
            "Requirement already satisfied: six>=1.5 in /usr/local/lib/python3.7/dist-packages (from python-dateutil>=2.7.3->pandas==1.3.3) (1.15.0)\n"
          ]
        }
      ],
      "source": [
        "!pip install pandas==1.3.3 xgboost"
      ]
    },
    {
      "cell_type": "code",
      "execution_count": null,
      "id": "YiB9haIJ_C5e",
      "metadata": {
        "id": "YiB9haIJ_C5e"
      },
      "outputs": [],
      "source": [
        "# from google.colab import files\n",
        "import pickle\n",
        "# import io\n",
        "# uploaded = files.upload()\n",
        "\n",
        "with open('/content/drive/MyDrive/CS421_Assignment_Data/x_train.pickle', \"rb\") as f:\n",
        "    X_train = pickle.load(f)\n",
        "with open('/content/drive/MyDrive/CS421_Assignment_Data/x_test.pickle', \"rb\") as f:\n",
        "    X_test = pickle.load(f)\n",
        "with open('/content/drive/MyDrive/CS421_Assignment_Data/y_train.pickle', \"rb\") as f:\n",
        "    y_train = pickle.load(f)\n",
        "with open('/content/drive/MyDrive/CS421_Assignment_Data/y_test.pickle', \"rb\") as f:\n",
        "    y_test = pickle.load(f)"
      ]
    },
    {
      "cell_type": "code",
      "execution_count": null,
      "id": "pawnwN_x-2Yp",
      "metadata": {
        "id": "pawnwN_x-2Yp"
      },
      "outputs": [],
      "source": [
        "import xgboost as xgb\n",
        "from sklearn.model_selection import GridSearchCV, RandomizedSearchCV\n",
        "from sklearn.model_selection import StratifiedKFold\n",
        "import warnings"
      ]
    },
    {
      "cell_type": "code",
      "execution_count": null,
      "id": "6Fa_Fs-I-2Yy",
      "metadata": {
        "colab": {
          "base_uri": "https://localhost:8080/"
        },
        "id": "6Fa_Fs-I-2Yy",
        "outputId": "32fec9e2-215e-4e01-b41d-57d54ce6b493"
      },
      "outputs": [
        {
          "data": {
            "text/plain": [
              "array([1, 0, 1, ..., 0, 0, 1])"
            ]
          },
          "execution_count": 6,
          "metadata": {},
          "output_type": "execute_result"
        }
      ],
      "source": [
        "y_train.to_numpy().ravel()"
      ]
    },
    {
      "cell_type": "code",
      "execution_count": null,
      "id": "SQ6Wi9yiCJzv",
      "metadata": {
        "colab": {
          "base_uri": "https://localhost:8080/",
          "height": 36
        },
        "id": "SQ6Wi9yiCJzv",
        "outputId": "bcdbe78b-4ce4-426e-acaf-583d8e930253"
      },
      "outputs": [
        {
          "data": {
            "application/vnd.google.colaboratory.intrinsic+json": {
              "type": "string"
            },
            "text/plain": [
              "'/device:GPU:0'"
            ]
          },
          "execution_count": 7,
          "metadata": {},
          "output_type": "execute_result"
        }
      ],
      "source": [
        "import tensorflow as tf\n",
        "tf.test.gpu_device_name()"
      ]
    },
    {
      "cell_type": "code",
      "execution_count": null,
      "id": "2a88a17f",
      "metadata": {
        "id": "2a88a17f"
      },
      "outputs": [],
      "source": [
        "# def warn(*args, **kwargs): pass\n",
        "# warnings.warn = warn\n",
        "# param_grid = {\n",
        "#     'learning_rate': [.01, .02, .05, .08, .1],\n",
        "#     'n_estimators': range(150, 200, 5),\n",
        "#     'max_depth': range(2, 10, 1),\n",
        "# }\n",
        "\n",
        "\n",
        "# model = xgb.XGBClassifier(objective='binary:logistic', tree_method='gpu_hist', seed=7,\\\n",
        "#                             use_label_encoder=False, verbosity=1)\n",
        "# kfold = StratifiedKFold(n_splits=10, shuffle=True, random_state=7)\n",
        "# grid_search = GridSearchCV(model, param_grid, scoring='roc_auc', n_jobs=-1, cv=kfold)\n",
        "# cv_score = grid_search.fit(X_train.to_numpy(), y_train.to_numpy().ravel())"
      ]
    },
    {
      "cell_type": "code",
      "execution_count": null,
      "id": "2-HvJCr-p6ea",
      "metadata": {
        "id": "2-HvJCr-p6ea"
      },
      "outputs": [],
      "source": [
        "import numpy as np\n",
        "def warn(*args, **kwargs): pass\n",
        "warnings.warn = warn\n",
        "\n",
        "def run_rando_search():\n",
        "  param_grid = {\n",
        "      'learning_rate': [rate for rate in np.linspace(.01, .1, num=10)],\n",
        "      'n_estimators': [int(est) for est in np.linspace(150, 200, num=15)],\n",
        "      'max_depth': range(2, 5),\n",
        "  }\n",
        "\n",
        "\n",
        "  model = xgb.XGBClassifier(objective='binary:logistic', tree_method='gpu_hist', seed=7,\\\n",
        "                              use_label_encoder=False, verbosity=1)\n",
        "  kfold = StratifiedKFold(n_splits=10, shuffle=True, random_state=7)\n",
        "  rando_search = RandomizedSearchCV(model, param_grid, scoring='roc_auc', n_jobs=-1, cv=kfold)\n",
        "  cv_score = rando_search.fit(X_train.to_numpy(), y_train.to_numpy().ravel())\n",
        "  print(f\"cv best score: {cv_score.best_score_}\")\n",
        "  print(f\"best params:\\n\" \n",
        "        f\"n_estimators: {cv_score.best_params_['n_estimators']}\\n\"\n",
        "        f\"max depth: {cv_score.best_params_['max_depth']}\\n\" \n",
        "        f\"learning rate: {cv_score.best_params_['learning_rate']}\\n\\n\")\n",
        "  print(f\"Test score: {cv_score.best_estimator_.score(X_test.to_numpy(), y_test.to_numpy().ravel())}\")"
      ]
    },
    {
      "cell_type": "code",
      "execution_count": null,
      "id": "LUcyEuNnFJqt",
      "metadata": {
        "colab": {
          "base_uri": "https://localhost:8080/"
        },
        "id": "LUcyEuNnFJqt",
        "outputId": "bc98a753-1676-45e0-9dc7-edde844680f4"
      },
      "outputs": [
        {
          "name": "stdout",
          "output_type": "stream",
          "text": [
            "Run 1\n",
            "\n",
            "cv best score: 0.7042116625472691\n",
            "best params:\n",
            "n_estimators: 200\n",
            "max depth: 3\n",
            "learning rate: 0.07\n",
            "\n",
            "\n",
            "Run 2\n",
            "\n",
            "cv best score: 0.7045605391729881\n",
            "best params:\n",
            "n_estimators: 153\n",
            "max depth: 3\n",
            "learning rate: 0.1\n",
            "\n",
            "\n",
            "Run 3\n",
            "\n",
            "cv best score: 0.7045755234738226\n",
            "best params:\n",
            "n_estimators: 171\n",
            "max depth: 3\n",
            "learning rate: 0.1\n",
            "\n",
            "\n",
            "Run 4\n",
            "\n",
            "cv best score: 0.7045605391729881\n",
            "best params:\n",
            "n_estimators: 153\n",
            "max depth: 3\n",
            "learning rate: 0.1\n",
            "\n",
            "\n",
            "Run 5\n",
            "\n",
            "cv best score: 0.7025427691256872\n",
            "best params:\n",
            "n_estimators: 182\n",
            "max depth: 4\n",
            "learning rate: 0.05000000000000001\n",
            "\n",
            "\n",
            "Run 6\n",
            "\n",
            "cv best score: 0.70421322683852\n",
            "best params:\n",
            "n_estimators: 189\n",
            "max depth: 3\n",
            "learning rate: 0.1\n",
            "\n",
            "\n",
            "Run 7\n",
            "\n",
            "cv best score: 0.70441554334575\n",
            "best params:\n",
            "n_estimators: 189\n",
            "max depth: 3\n",
            "learning rate: 0.09000000000000001\n",
            "\n",
            "\n",
            "Run 8\n",
            "\n",
            "cv best score: 0.70421322683852\n",
            "best params:\n",
            "n_estimators: 189\n",
            "max depth: 3\n",
            "learning rate: 0.1\n",
            "\n",
            "\n",
            "Run 9\n",
            "\n",
            "cv best score: 0.704351851454625\n",
            "best params:\n",
            "n_estimators: 185\n",
            "max depth: 3\n",
            "learning rate: 0.09000000000000001\n",
            "\n",
            "\n",
            "Run 10\n",
            "\n",
            "cv best score: 0.7045650123675374\n",
            "best params:\n",
            "n_estimators: 175\n",
            "max depth: 3\n",
            "learning rate: 0.1\n",
            "\n",
            "\n"
          ]
        }
      ],
      "source": [
        "for round in range(1,11):\n",
        "print(f\"Run {round}\\n\")\n",
        "run_rando_search()\n",
        "\n",
        "import pickle\n",
        "with open('/content/drive/MyDrive/CS421_Assignment_Data/cv_score_ensemble.pickle', 'wb') as f:\n",
        "  pickle.dump(cv_score, f, pickle.HIGHEST_PROTOCOL)"
      ]
    },
    {
      "cell_type": "code",
      "execution_count": null,
      "id": "OTtfTp6PG7IB",
      "metadata": {
        "colab": {
          "base_uri": "https://localhost:8080/"
        },
        "id": "OTtfTp6PG7IB",
        "outputId": "690984e4-dfd9-42f9-c35e-eb5a1c1e8bdf"
      },
      "outputs": [
        {
          "name": "stdout",
          "output_type": "stream",
          "text": [
            "cv best score: 0.704006940064425\n",
            "best params:\n",
            "n_estimators: 175\n",
            "max depth: 3\n",
            "learning rate: 0.09000000000000001\n",
            "\n",
            "\n"
          ]
        }
      ],
      "source": [
        "param_grid = {\n",
        "    'learning_rate': [rate for rate in np.linspace(.01, .1, num=10)],\n",
        "    'n_estimators': [int(est) for est in np.linspace(150, 200, num=15)],\n",
        "    'max_depth': range(2, 5),\n",
        "}\n",
        "\n",
        "\n",
        "model = xgb.XGBClassifier(objective='binary:logistic', tree_method='gpu_hist', seed=7,\\\n",
        "                          use_label_encoder=False, verbosity=1)\n",
        "kfold = StratifiedKFold(n_splits=10, shuffle=True, random_state=7)\n",
        "rando_search = RandomizedSearchCV(model, param_grid, scoring='roc_auc', n_jobs=-1, cv=kfold)\n",
        "cv_score = rando_search.fit(X_train.to_numpy(), y_train.to_numpy().ravel())\n",
        "print(f\"cv best score: {cv_score.best_score_}\")\n",
        "print(f\"best params:\\n\" \n",
        "    f\"n_estimators: {cv_score.best_params_['n_estimators']}\\n\"\n",
        "    f\"max depth: {cv_score.best_params_['max_depth']}\\n\" \n",
        "    f\"learning rate: {cv_score.best_params_['learning_rate']}\\n\\n\")\n",
        "\n"
      ]
    },
    {
      "cell_type": "code",
      "execution_count": null,
      "id": "Y2UptU_6JJou",
      "metadata": {
        "colab": {
          "base_uri": "https://localhost:8080/"
        },
        "id": "Y2UptU_6JJou",
        "outputId": "df358f02-267d-40bf-8b21-983d27e59ceb"
      },
      "outputs": [
        {
          "name": "stdout",
          "output_type": "stream",
          "text": [
            "Test score: 0.8585091420534459\n"
          ]
        }
      ],
      "source": [
        "print(f\"Test score: {cv_score.best_estimator_.score(X_test.to_numpy(), y_test.to_numpy().ravel())}\")"
      ]
    }
  ],
  "metadata": {
    "accelerator": "GPU",
    "colab": {
      "collapsed_sections": [],
      "name": "Ensemble Learning (Boosting).ipynb",
      "provenance": []
    },
    "interpreter": {
      "hash": "7181f11876673d08ebcbc6604efd43f743284bcee44ceb6cf78e2261f42e6ae0"
    },
    "kernelspec": {
      "display_name": "Python 3.9.7 64-bit ('ml': conda)",
      "name": "python3"
    },
    "language_info": {
      "codemirror_mode": {
        "name": "ipython",
        "version": 3
      },
      "file_extension": ".py",
      "mimetype": "text/x-python",
      "name": "python",
      "nbconvert_exporter": "python",
      "pygments_lexer": "ipython3",
      "version": "3.9.7"
    }
  },
  "nbformat": 4,
  "nbformat_minor": 5
}
